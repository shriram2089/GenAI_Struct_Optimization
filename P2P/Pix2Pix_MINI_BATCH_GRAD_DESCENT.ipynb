{
 "cells": [
  {
   "cell_type": "code",
   "execution_count": 4,
   "metadata": {
    "id": "5TzbU2TOP7J9"
   },
   "outputs": [],
   "source": [
    "import tensorflow as tf\n",
    "import numpy as np\n",
    "import matplotlib.pyplot as plt\n",
    "import os\n",
    "from matplotlib.image import imread"
   ]
  },
  {
   "cell_type": "code",
   "execution_count": 163,
   "metadata": {
    "id": "2Eo-TthYvVXd"
   },
   "outputs": [],
   "source": [
    "x_train_tmp_folder_path = r\"C:\\Hyundai GAN\\Hyundai_full_data_circular\\new_range_inputs\\new_inputs\\temp_new\"\n",
    "x_train_dsp_folder_path = r\"C:\\Hyundai GAN\\Hyundai_full_data_circular\\new_range_inputs\\new_inputs\\disp_new\"\n",
    "y_train_folder_path = r\"C:\\Hyundai GAN\\Hyundai_full_data_circular\\Data\\CIRCULAR_VANE_Shape_Images_1559\"\n",
    "\n",
    "x_tmp_elements = os.listdir(x_train_tmp_folder_path)\n",
    "x_dsp_elements = os.listdir(x_train_dsp_folder_path)\n",
    "y_elements = os.listdir(y_train_folder_path)\n"
   ]
  },
  {
   "cell_type": "code",
   "execution_count": 164,
   "metadata": {},
   "outputs": [],
   "source": [
    "def sort_img(path):\n",
    "\n",
    "    dict1 = {}\n",
    "    \n",
    "    lst = [0]*1560\n",
    "    for i in path:\n",
    "        dict1[int(i[i.index('(')+1:i.index(')')])] = i\n",
    "        \n",
    "    \n",
    "    for j in range(1,1560):\n",
    "        lst[j]= dict1[j]\n",
    "    return lst[1:]\n",
    "\n"
   ]
  },
  {
   "cell_type": "code",
   "execution_count": 165,
   "metadata": {},
   "outputs": [],
   "source": [
    "x_tmp_elements = sort_img(x_tmp_elements)\n",
    "x_dsp_elements = sort_img(x_dsp_elements)\n",
    "y_elements = sort_img(y_elements)"
   ]
  },
  {
   "cell_type": "code",
   "execution_count": 166,
   "metadata": {},
   "outputs": [
    {
     "data": {
      "text/plain": [
       "['vaneimg (1).jpeg',\n",
       " 'vaneimg (2).jpeg',\n",
       " 'vaneimg (3).jpeg',\n",
       " 'vaneimg (4).jpeg',\n",
       " 'vaneimg (5).jpeg',\n",
       " 'vaneimg (6).jpeg',\n",
       " 'vaneimg (7).jpeg',\n",
       " 'vaneimg (8).jpeg',\n",
       " 'vaneimg (9).jpeg',\n",
       " 'vaneimg (10).jpeg',\n",
       " 'vaneimg (11).jpeg',\n",
       " 'vaneimg (12).jpeg',\n",
       " 'vaneimg (13).jpeg',\n",
       " 'vaneimg (14).jpeg',\n",
       " 'vaneimg (15).jpeg']"
      ]
     },
     "execution_count": 166,
     "metadata": {},
     "output_type": "execute_result"
    }
   ],
   "source": [
    "y_elements[:15]"
   ]
  },
  {
   "cell_type": "code",
   "execution_count": null,
   "metadata": {},
   "outputs": [],
   "source": []
  },
  {
   "cell_type": "code",
   "execution_count": 1,
   "metadata": {
    "id": "86c0dcfa"
   },
   "outputs": [],
   "source": [
    "# DEVELOPING X_train MATRIX\n",
    "\n",
    "def get_images(tmp_elements,disp_elements,y_elements,size):\n",
    "  X= np.zeros((size,256,256,2))\n",
    "  Y= np.zeros((size,256,256,1))\n",
    "  for index, (tmp_element, dsp_element) in enumerate(zip(tmp_elements, disp_elements)):\n",
    "      # Load images for each channel\n",
    "      tmp_element_path = os.path.join(x_train_tmp_folder_path, tmp_element)\n",
    "      dsp_element_path = os.path.join(x_train_dsp_folder_path, dsp_element)\n",
    "      img_tmp = imread(tmp_element_path)\n",
    "      img_dsp = imread(dsp_element_path)\n",
    "\n",
    "      # Reshape images for each channel\n",
    "      img_tmp = img_tmp.reshape((256,256, 1))\n",
    "      img_dsp = img_dsp.reshape((256,256, 1))\n",
    "\n",
    "      # Combine channels\n",
    "      img_combined = (np.concatenate((img_tmp, img_dsp), axis=2)-0.5)/0.5\n",
    "\n",
    "      # Assign to X_train\n",
    "      X[index] = img_combined\n",
    "\n",
    "  # DEVELOPING Y_train MATRIX\n",
    "  for index,Y_train_element in enumerate(y_elements):\n",
    "      element_path = os.path.join(y_train_folder_path, Y_train_element)\n",
    "      img = imread(element_path)\n",
    "      img = np.mean(img, axis=2)\n",
    "      img = img/255\n",
    "      img = img.reshape((256, 256, 1))\n",
    "      Y[index] = img\n",
    "  return X,Y"
   ]
  },
  {
   "cell_type": "code",
   "execution_count": 2,
   "metadata": {
    "id": "673fd969"
   },
   "outputs": [
    {
     "ename": "NameError",
     "evalue": "name 'x_tmp_elements' is not defined",
     "output_type": "error",
     "traceback": [
      "\u001b[1;31m---------------------------------------------------------------------------\u001b[0m",
      "\u001b[1;31mNameError\u001b[0m                                 Traceback (most recent call last)",
      "Cell \u001b[1;32mIn[2], line 1\u001b[0m\n\u001b[1;32m----> 1\u001b[0m x,y \u001b[38;5;241m=\u001b[39m get_images(x_tmp_elements,x_dsp_elements,y_elements,\u001b[38;5;28mlen\u001b[39m(x_tmp_elements))\n",
      "\u001b[1;31mNameError\u001b[0m: name 'x_tmp_elements' is not defined"
     ]
    }
   ],
   "source": [
    "x,y = get_images(x_tmp_elements,x_dsp_elements,y_elements,len(x_tmp_elements))"
   ]
  },
  {
   "cell_type": "code",
   "execution_count": 3,
   "metadata": {
    "colab": {
     "base_uri": "https://localhost:8080/"
    },
    "id": "-N9WxNGLtK4V",
    "outputId": "05409cba-182e-43e7-8100-da756dd19592"
   },
   "outputs": [
    {
     "ename": "NameError",
     "evalue": "name 'x' is not defined",
     "output_type": "error",
     "traceback": [
      "\u001b[1;31m---------------------------------------------------------------------------\u001b[0m",
      "\u001b[1;31mNameError\u001b[0m                                 Traceback (most recent call last)",
      "Cell \u001b[1;32mIn[3], line 1\u001b[0m\n\u001b[1;32m----> 1\u001b[0m x\u001b[38;5;241m.\u001b[39mshape,y\u001b[38;5;241m.\u001b[39mshape\n",
      "\u001b[1;31mNameError\u001b[0m: name 'x' is not defined"
     ]
    }
   ],
   "source": [
    "x.shape,y.shape"
   ]
  },
  {
   "cell_type": "code",
   "execution_count": 170,
   "metadata": {},
   "outputs": [
    {
     "data": {
      "text/plain": [
       "<matplotlib.image.AxesImage at 0x2ee07ff1c90>"
      ]
     },
     "execution_count": 170,
     "metadata": {},
     "output_type": "execute_result"
    },
    {
     "data": {
      "image/png": "[encoded data removed]",
      "text/plain": [
       "<Figure size 640x480 with 1 Axes>"
      ]
     },
     "metadata": {},
     "output_type": "display_data"
    }
   ],
   "source": [
    "img=imread(os.path.join(y_train_folder_path,y_elements[15]))\n",
    "plt.imshow(img)"
   ]
  },
  {
   "cell_type": "code",
   "execution_count": 171,
   "metadata": {
    "colab": {
     "base_uri": "https://localhost:8080/"
    },
    "id": "7HvfLvJ8_zkK",
    "outputId": "cc6e562a-8034-4e97-ed77-6fb4f3e19a08"
   },
   "outputs": [
    {
     "data": {
      "text/plain": [
       "(1.0, -1.0, 1.0, -1.0)"
      ]
     },
     "execution_count": 171,
     "metadata": {},
     "output_type": "execute_result"
    }
   ],
   "source": [
    "x.max(),x.min(),y.max(),y.min()"
   ]
  },
  {
   "cell_type": "code",
   "execution_count": null,
   "metadata": {},
   "outputs": [],
   "source": []
  },
  {
   "cell_type": "code",
   "execution_count": 172,
   "metadata": {
    "id": "pHxw1J1SU7hS"
   },
   "outputs": [],
   "source": [
    "train_data=tf.data.Dataset.from_tensor_slices((x[:500],y[:500]))"
   ]
  },
  {
   "cell_type": "code",
   "execution_count": 173,
   "metadata": {
    "colab": {
     "base_uri": "https://localhost:8080/"
    },
    "id": "7SN_NIguVOXy",
    "outputId": "7a865b7d-b6e1-4473-c78a-9894fbc0b411"
   },
   "outputs": [
    {
     "data": {
      "text/plain": [
       "<_TensorSliceDataset element_spec=(TensorSpec(shape=(256, 256, 2), dtype=tf.float64, name=None), TensorSpec(shape=(256, 256, 1), dtype=tf.float64, name=None))>"
      ]
     },
     "execution_count": 173,
     "metadata": {},
     "output_type": "execute_result"
    }
   ],
   "source": [
    "train_data"
   ]
  },
  {
   "cell_type": "code",
   "execution_count": 174,
   "metadata": {
    "id": "zBUQZugyYEaT"
   },
   "outputs": [],
   "source": [
    "def encoder_block(input,filters,batch_norm=True):\n",
    "  init=tf.keras.initializers.RandomNormal(stddev=0.02,seed=42)\n",
    "  x=tf.keras.layers.Conv2D(filters,(4,4),strides=(2,2),padding='same',kernel_initializer=init)(input)\n",
    "  if batch_norm:\n",
    "    x=tf.keras.layers.BatchNormalization()(x,training=True)\n",
    "  x=tf.keras.layers.LeakyReLU(alpha=0.2)(x)\n",
    "  return x\n",
    "\n",
    "def decoder_block(input,skip_con,filters,dropout=True):\n",
    "  init=tf.keras.initializers.RandomNormal(stddev=0.02)\n",
    "  x=tf.keras.layers.Conv2DTranspose(filters,(4,4),strides=(2,2),padding='same',kernel_initializer=init)(input)\n",
    "  x=tf.keras.layers.BatchNormalization()(x,training=True)\n",
    "  if dropout:\n",
    "    x=tf.keras.layers.Dropout(0.5)(x,training=True)\n",
    "  x=tf.keras.layers.Concatenate()([x,skip_con])\n",
    "  x=tf.keras.layers.LeakyReLU(alpha=0.1)(x)\n",
    "  return x\n",
    "\n",
    "def generator_model(input_shape=(256,256,2)):\n",
    "  init=tf.keras.initializers.RandomNormal(stddev=0.02,seed=42)\n",
    "  input=tf.keras.layers.Input(input_shape)\n",
    "  e1=encoder_block(input,64,batch_norm=False)\n",
    "  e2=encoder_block(e1,128)\n",
    "  e3=encoder_block(e2,256)\n",
    "  e4=encoder_block(e3,512)\n",
    "  e5=encoder_block(e4,512)\n",
    "  e6=encoder_block(e5,512)\n",
    "  e7=encoder_block(e6,512)\n",
    "\n",
    "  b=tf.keras.layers.Conv2D(512,(4,4),strides=(2,2),padding='same',kernel_initializer=init)(e7)\n",
    "  #b=tf.keras.layers.BatchNormalization()(b,training=True)\n",
    "  b=tf.keras.layers.ReLU()(b)\n",
    "\n",
    "  d1=decoder_block(b,e7,512)\n",
    "  d2=decoder_block(d1,e6,512)\n",
    "  d3=decoder_block(d2,e5,512)\n",
    "  d4=decoder_block(d3,e4,512,dropout=False)\n",
    "  d5=decoder_block(d4,e3,256,dropout=False)\n",
    "  d6=decoder_block(d5,e2,128,dropout=False)\n",
    "  d7=decoder_block(d6,e1,64,dropout=False)\n",
    "\n",
    "  output=tf.keras.layers.Conv2DTranspose(1,(4,4),strides=(2,2),padding='same',kernel_initializer=init)(d7)\n",
    "  output=tf.keras.layers.Activation('tanh')(output)\n",
    "  model=tf.keras.Model(input,output)\n",
    "  return model\n",
    "\n",
    "loss=tf.keras.losses.BinaryCrossentropy(from_logits=True)\n",
    "\n",
    "def gen_loss(generated_output, g_output, target):\n",
    "  lambda_=100\n",
    "  gan_loss = loss(tf.ones_like(generated_output), generated_output)\n",
    "  l1_loss = tf.reduce_mean(tf.abs(tf.cast(target,tf.float64) - tf.cast(g_output,tf.float64)))\n",
    "  g_loss_total = tf.cast(gan_loss,tf.float64) + (lambda_ * l1_loss)\n",
    "  return g_loss_total, gan_loss, l1_loss"
   ]
  },
  {
   "cell_type": "code",
   "execution_count": 175,
   "metadata": {
    "id": "uJeVKz6oaoHM"
   },
   "outputs": [],
   "source": [
    "generator=generator_model()"
   ]
  },
  {
   "cell_type": "code",
   "execution_count": 176,
   "metadata": {
    "id": "dLunA5aYg5cL"
   },
   "outputs": [],
   "source": [
    "def discriminator_model(input_shape=(256,256,2)):\n",
    "  init=tf.keras.initializers.RandomNormal(stddev=0.02,seed=42)\n",
    "  src_img=tf.keras.layers.Input(input_shape)\n",
    "  tar_img=tf.keras.layers.Input((256,256,1))\n",
    "  merged=tf.keras.layers.Concatenate()([src_img,tar_img])\n",
    "  x=tf.keras.layers.Conv2D(64,(4,4),strides=(2,2),padding='same',kernel_initializer=init)(merged)\n",
    "  x=tf.keras.layers.LeakyReLU(alpha=0.2)(x)\n",
    "\n",
    "  x=tf.keras.layers.Conv2D(128,(4,4),strides=(2,2),padding='same',kernel_initializer=init)(x)\n",
    "  x=tf.keras.layers.BatchNormalization()(x)\n",
    "  x=tf.keras.layers.LeakyReLU(alpha=0.2)(x)\n",
    "\n",
    "  x=tf.keras.layers.Conv2D(256,(4,4),strides=(2,2),padding='same',kernel_initializer=init)(x)\n",
    "  x=tf.keras.layers.BatchNormalization()(x)\n",
    "  x=tf.keras.layers.LeakyReLU(alpha=0.2)(x)\n",
    "\n",
    "  x=tf.keras.layers.Conv2D(512,(4,4),strides=(2,2),padding='same',kernel_initializer=init)(x)\n",
    "  x=tf.keras.layers.BatchNormalization()(x)\n",
    "  x=tf.keras.layers.LeakyReLU(alpha=0.2)(x)\n",
    "\n",
    "  x=tf.keras.layers.Conv2D(1,(4,4),padding='same',kernel_initializer=init)(x)\n",
    "  model=tf.keras.Model([src_img,tar_img],x)\n",
    "  return model\n",
    "\n",
    "def disc_loss(real_output,fake_output):\n",
    "  real_loss=loss(tf.ones_like(real_output),real_output)\n",
    "  fake_loss=loss(tf.zeros_like(fake_output),fake_output)\n",
    "  return real_loss+fake_loss"
   ]
  },
  {
   "cell_type": "code",
   "execution_count": 177,
   "metadata": {
    "id": "1JGlu3S4j-Au"
   },
   "outputs": [],
   "source": [
    "discriminator=discriminator_model()"
   ]
  },
  {
   "cell_type": "code",
   "execution_count": 178,
   "metadata": {
    "colab": {
     "base_uri": "https://localhost:8080/",
     "height": 1000
    },
    "id": "Fhn6wKmjkDX1",
    "outputId": "310e22b5-bd34-4d87-b125-3e9226271830"
   },
   "outputs": [
    {
     "name": "stdout",
     "output_type": "stream",
     "text": [
      "You must install pydot (`pip install pydot`) for `plot_model` to work.\n"
     ]
    }
   ],
   "source": [
    "tf.keras.utils.plot_model(discriminator, show_shapes=True)"
   ]
  },
  {
   "cell_type": "code",
   "execution_count": 179,
   "metadata": {
    "id": "3vFIjqrxoVOy"
   },
   "outputs": [],
   "source": [
    "gen_opt=tf.keras.optimizers.Adam(learning_rate=0.0002,beta_1=0.5,beta_2=0.999)\n",
    "disc_opt=tf.keras.optimizers.Adam(learning_rate=0.0002,beta_1=0.5,beta_2=0.999)"
   ]
  },
  {
   "cell_type": "code",
   "execution_count": 180,
   "metadata": {
    "id": "PtSFNdsNp0Da"
   },
   "outputs": [],
   "source": [
    "def compare_images(input_test,target,epoch):\n",
    "  generated = generator(input_test, training=False)\n",
    "  plt.figure(figsize=(15,5))\n",
    "\n",
    "  images_list = [target[0], generated[0]]\n",
    "  title = ['Real (ground truth)', 'Generated Image (fake)']\n",
    "\n",
    "  for i in range(2):\n",
    "    plt.subplot(1, 2, i + 1)\n",
    "    plt.title(title[i])\n",
    "    plt.imshow(images_list[i] * 0.5 + 0.5,cmap='gray')\n",
    "    plt.axis('off')\n",
    "  plt.suptitle(f'EPOCH {epoch}')\n",
    "  plt.show()"
   ]
  },
  {
   "cell_type": "code",
   "execution_count": 181,
   "metadata": {
    "id": "oCv26Gocr0xa"
   },
   "outputs": [],
   "source": [
    "#@tf.function\n",
    "\n",
    "#helper function\n",
    "def train_step(input_img, real):\n",
    "  with tf.GradientTape() as g_tape, tf.GradientTape() as d_tape:\n",
    "    g_output = generator(input_img, training = True)\n",
    "    d_output_real = discriminator([input_img, real], training = True)\n",
    "    d_generated_output = discriminator([input_img, g_output], training = True)\n",
    "    g_loss_total, g_loss_gan, g_loss_l1 =gen_loss(d_generated_output, g_output, real)\n",
    "    d_loss = disc_loss(d_output_real, d_generated_output)\n",
    "\n",
    "  return g_loss_total, d_loss"
   ]
  },
  {
   "cell_type": "code",
   "execution_count": 182,
   "metadata": {
    "id": "Aheso1aXDZwO"
   },
   "outputs": [],
   "source": [
    "#MINI BATCH GRADIENT DESCENT\n",
    "from IPython import display\n",
    "\n",
    "#@tf.function\n",
    "def train(train_set,epochs,batch_size):\n",
    "  train_iterator=train_set\n",
    "  example_input, example_target = next(iter(train_set.take(1)))\n",
    "  for i in range(epochs):\n",
    "    for j in range(len(train_set)//batch_size):\n",
    "      g_loss_total=[]\n",
    "      d_loss_total=[]\n",
    "      print(f\"Epoch: {i+1}/{epochs}, Batch: {j+1}/{len(train_set)//batch_size}\")\n",
    "      for step, (input_img, real) in train_iterator.repeat().take(batch_size).enumerate():\n",
    "        print('.',end='')\n",
    "        with tf.GradientTape() as g_tape, tf.GradientTape() as d_tape:\n",
    "          g_output = generator(input_img, training = True)\n",
    "          d_output_real = discriminator([input_img, real], training = True)\n",
    "          d_generated_output = discriminator([input_img, g_output], training = True)\n",
    "          g_loss, g_loss_gan, g_loss_l1 =gen_loss(d_generated_output, g_output, real)\n",
    "          d_loss = disc_loss(d_output_real, d_generated_output)\n",
    "        g_loss_total.append(g_loss)\n",
    "        d_loss_total.append(d_loss)\n",
    "        compare_images(input_img,real, i)\n",
    "      gen_loss_total=tf.reduce_mean(g_loss_total)\n",
    "      disc_loss_total=tf.reduce_mean(d_loss_total)\n",
    "      gradients_generator = g_tape.gradient(g_loss_total, generator.trainable_variables)\n",
    "      gradients_discriminator = d_tape.gradient(d_loss_total, discriminator.trainable_variables)\n",
    "      gen_opt.apply_gradients(zip(gradients_generator, generator.trainable_variables))\n",
    "      disc_opt.apply_gradients(zip(gradients_discriminator, discriminator.trainable_variables))\n",
    "      #display.clear_output(wait = True)"
   ]
  },
  {
   "cell_type": "code",
   "execution_count": 183,
   "metadata": {
    "id": "ArLePK_OtXCQ"
   },
   "outputs": [],
   "source": [
    "import tensorflow as tf\n",
    "from IPython import display\n",
    "def train(train_set, epochs, batch_size):\n",
    "    train_iterator = iter(train_set.batch(batch_size).repeat())\n",
    "\n",
    "    for i in range(epochs):\n",
    "        g_loss_total = []\n",
    "        d_loss_total = []\n",
    "\n",
    "        for j in range(len(train_set) // batch_size):\n",
    "            print(f\"Epoch: {i+1}/{epochs}, Batch: {j+1}/{len(train_set) // batch_size}\")\n",
    "\n",
    "            batch = next(train_iterator)\n",
    "            input_img, real = batch\n",
    "\n",
    "            with tf.GradientTape() as g_tape, tf.GradientTape() as d_tape:\n",
    "                g_output = generator(input_img, training=True)\n",
    "                d_output_real = discriminator([input_img, real], training=True)\n",
    "                d_generated_output = discriminator([input_img, g_output], training=True)\n",
    "\n",
    "                g_loss, g_loss_gan, g_loss_l1 = gen_loss(d_generated_output, g_output, real)\n",
    "                d_loss = disc_loss(d_output_real, d_generated_output)\n",
    "\n",
    "            g_loss_total.append(g_loss)\n",
    "            d_loss_total.append(d_loss)\n",
    "            \n",
    "            print(g_loss)\n",
    "            gradients_generator = g_tape.gradient(g_loss, generator.trainable_variables)\n",
    "            gradients_discriminator = d_tape.gradient(d_loss, discriminator.trainable_variables)\n",
    "\n",
    "            gen_opt.apply_gradients(zip(gradients_generator, generator.trainable_variables))\n",
    "            disc_opt.apply_gradients(zip(gradients_discriminator, discriminator.trainable_variables))\n",
    "\n",
    "            compare_images(input_img, real, i+1)\n",
    "            print('Training ...', end='')\n",
    "\n",
    "        gen_loss_total = tf.reduce_mean(g_loss_total)\n",
    "        disc_loss_total = tf.reduce_mean(d_loss_total)\n",
    "        print(f\"\\nGenerator Loss: {gen_loss_total}, Discriminator Loss: {disc_loss_total}\")\n",
    "\n"
   ]
  },
  {
   "cell_type": "raw",
   "metadata": {},
   "source": [
    "generator.load_weights('p2p_1200_bgd_dynamic_gen_6.h5')\n",
    "discriminator.load_weights('p2p_1200_bgd_dynamic_disc_6.h5')"
   ]
  },
  {
   "cell_type": "code",
   "execution_count": 188,
   "metadata": {},
   "outputs": [
    {
     "data": {
      "text/plain": [
       "<matplotlib.image.AxesImage at 0x2f145f71cd0>"
      ]
     },
     "execution_count": 188,
     "metadata": {},
     "output_type": "execute_result"
    },
    {
     "data": {
      "image/png": "[encoded data removed]",
      "text/plain": [
       "<Figure size 640x480 with 1 Axes>"
      ]
     },
     "metadata": {},
     "output_type": "display_data"
    }
   ],
   "source": [
    "res=generator(tf.expand_dims(x[1499],axis=0))\n",
    "plt.imshow(res[0],cmap='gray')"
   ]
  },
  {
   "cell_type": "code",
   "execution_count": null,
   "metadata": {},
   "outputs": [],
   "source": []
  },
  {
   "cell_type": "code",
   "execution_count": null,
   "metadata": {},
   "outputs": [],
   "source": []
  },
  {
   "cell_type": "code",
   "execution_count": null,
   "metadata": {},
   "outputs": [],
   "source": []
  },
  {
   "cell_type": "code",
   "execution_count": null,
   "metadata": {},
   "outputs": [],
   "source": []
  }
 ],
 "metadata": {
  "colab": {
   "provenance": []
  },
  "kernelspec": {
   "display_name": "Python 3 (ipykernel)",
   "language": "python",
   "name": "python3"
  },
  "language_info": {
   "codemirror_mode": {
    "name": "ipython",
    "version": 3
   },
   "file_extension": ".py",
   "mimetype": "text/x-python",
   "name": "python",
   "nbconvert_exporter": "python",
   "pygments_lexer": "ipython3",
   "version": "3.9.19"
  }
 },
 "nbformat": 4,
 "nbformat_minor": 4
}
