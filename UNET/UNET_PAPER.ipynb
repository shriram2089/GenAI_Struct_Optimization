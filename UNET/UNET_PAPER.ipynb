{
 "cells": [
  {
   "cell_type": "code",
   "execution_count": 27,
   "id": "5eb92ef7-be0c-4d2c-9c92-a6be6e1609d3",
   "metadata": {
    "tags": []
   },
   "outputs": [],
   "source": [
    "import os\n",
    "import cv2\n",
    "import pandas as pd\n",
    "\n",
    "import numpy as np\n",
    "#import seaborn as sns\n",
    "import matplotlib.pyplot as plt\n",
    "from matplotlib.image import imread"
   ]
  },
  {
   "cell_type": "code",
   "execution_count": 28,
   "id": "9ae27236-d8ff-46b9-8499-71338fc6a57c",
   "metadata": {
    "tags": []
   },
   "outputs": [],
   "source": [
    "import tensorflow as tf \n",
    "from tensorflow.keras.models import Sequential\n",
    "from tensorflow.keras.layers import Conv2D, Conv2DTranspose, MaxPool2D \n",
    "from tensorflow.keras.initializers import RandomNormal\n",
    "from tensorflow.keras import layers, Model"
   ]
  },
  {
   "cell_type": "code",
   "execution_count": 29,
   "id": "39cde6fc-a7f3-4cc0-957b-c864194efb44",
   "metadata": {
    "tags": []
   },
   "outputs": [],
   "source": [
    "X_train_tmp_folder_path = r\"C:\\Users\\shrir\\OneDrive\\Desktop\\GAN\\GAN_PS\\CCGAN\\mat_ccgan\\disc_temp_mat\\572\"\n",
    "X_train_dsp_folder_path = r\"C:\\Users\\shrir\\OneDrive\\Desktop\\GAN\\GAN_PS\\CCGAN\\mat_ccgan\\disc_disp_mat\\572\"\n",
    "Y_train_folder_path = r\"C:\\Users\\shrir\\OneDrive\\Desktop\\GAN\\GAN_PS\\resized\\upscale\\388\""
   ]
  },
  {
   "cell_type": "code",
   "execution_count": 30,
   "id": "e3db7bba-c239-4528-ae1b-6c2abec50018",
   "metadata": {
    "tags": []
   },
   "outputs": [],
   "source": [
    "X_train_tmp_elements = os.listdir(X_train_tmp_folder_path) \n",
    "X_train_dsp_elements = os.listdir(X_train_dsp_folder_path) \n",
    "Y_train_elements = os.listdir(Y_train_folder_path)"
   ]
  },
  {
   "cell_type": "code",
   "execution_count": 31,
   "id": "c20908e3-4b62-4075-bd7e-b0f8b1298679",
   "metadata": {
    "tags": []
   },
   "outputs": [],
   "source": [
    "X_train = np.zeros((20,572,572,2))\n",
    "Y_train = np.zeros((20,388,388,1))"
   ]
  },
  {
   "cell_type": "code",
   "execution_count": 32,
   "id": "ab6daf92-5317-4377-b0c5-0fd3914793e4",
   "metadata": {
    "tags": []
   },
   "outputs": [],
   "source": [
    "# DEVELOPING X_train MATRIX\n",
    "\n",
    "for index, (tmp_element, dsp_element) in enumerate(zip(X_train_tmp_elements, X_train_dsp_elements)):\n",
    "    # Load images for each channel\n",
    "    tmp_element_path = os.path.join(X_train_tmp_folder_path, tmp_element)\n",
    "    dsp_element_path = os.path.join(X_train_dsp_folder_path, dsp_element)\n",
    "    img_tmp = imread(tmp_element_path)\n",
    "    img_dsp = imread(dsp_element_path)\n",
    "    \n",
    "    # Reshape images for each channel\n",
    "    img_tmp = img_tmp.reshape((572,572, 1))\n",
    "    img_dsp = img_dsp.reshape((572,572, 1))\n",
    "    \n",
    "    # Combine channels\n",
    "    img_combined = np.concatenate((img_tmp, img_dsp), axis=2)\n",
    "    \n",
    "    # Assign to X_train\n",
    "    X_train[index] = img_combined"
   ]
  },
  {
   "cell_type": "code",
   "execution_count": 33,
   "id": "57c4313e-9f5f-498d-b734-5dbe1167175e",
   "metadata": {
    "tags": []
   },
   "outputs": [
    {
     "data": {
      "text/plain": [
       "(20, 572, 572, 2)"
      ]
     },
     "execution_count": 33,
     "metadata": {},
     "output_type": "execute_result"
    }
   ],
   "source": [
    "\n",
    "X_train.shape"
   ]
  },
  {
   "cell_type": "code",
   "execution_count": 34,
   "id": "962f834d-ef7d-4852-9899-d439a4b810d0",
   "metadata": {
    "tags": []
   },
   "outputs": [
    {
     "data": {
      "text/plain": [
       "array([[[1., 1.],\n",
       "        [1., 1.],\n",
       "        [1., 1.],\n",
       "        ...,\n",
       "        [1., 1.],\n",
       "        [1., 1.],\n",
       "        [1., 1.]],\n",
       "\n",
       "       [[1., 1.],\n",
       "        [1., 1.],\n",
       "        [1., 1.],\n",
       "        ...,\n",
       "        [1., 1.],\n",
       "        [1., 1.],\n",
       "        [1., 1.]],\n",
       "\n",
       "       [[1., 1.],\n",
       "        [1., 1.],\n",
       "        [1., 1.],\n",
       "        ...,\n",
       "        [1., 1.],\n",
       "        [1., 1.],\n",
       "        [1., 1.]],\n",
       "\n",
       "       ...,\n",
       "\n",
       "       [[0., 0.],\n",
       "        [0., 0.],\n",
       "        [0., 0.],\n",
       "        ...,\n",
       "        [0., 0.],\n",
       "        [0., 0.],\n",
       "        [0., 0.]],\n",
       "\n",
       "       [[0., 0.],\n",
       "        [0., 0.],\n",
       "        [0., 0.],\n",
       "        ...,\n",
       "        [0., 0.],\n",
       "        [0., 0.],\n",
       "        [0., 0.]],\n",
       "\n",
       "       [[0., 0.],\n",
       "        [0., 0.],\n",
       "        [0., 0.],\n",
       "        ...,\n",
       "        [0., 0.],\n",
       "        [0., 0.],\n",
       "        [0., 0.]]])"
      ]
     },
     "execution_count": 34,
     "metadata": {},
     "output_type": "execute_result"
    }
   ],
   "source": [
    "X_train[0]"
   ]
  },
  {
   "cell_type": "code",
   "execution_count": 35,
   "id": "8464ea56-34fd-405a-8225-dd9a9c7731d1",
   "metadata": {
    "tags": []
   },
   "outputs": [
    {
     "data": {
      "text/plain": [
       "<matplotlib.image.AxesImage at 0x244c3d51ac0>"
      ]
     },
     "execution_count": 35,
     "metadata": {},
     "output_type": "execute_result"
    },
    {
     "data": {
      "image/png": "[encoded data removed]",
      "text/plain": [
       "<Figure size 640x480 with 1 Axes>"
      ]
     },
     "metadata": {},
     "output_type": "display_data"
    }
   ],
   "source": [
    "plt.imshow(X_train[5][:,:,1])"
   ]
  },
  {
   "cell_type": "code",
   "execution_count": null,
   "id": "829bacbb-238b-4388-8723-990e422782bb",
   "metadata": {},
   "outputs": [],
   "source": []
  },
  {
   "cell_type": "code",
   "execution_count": 36,
   "id": "4d01a043-a06a-4109-8d02-44d0f9080661",
   "metadata": {
    "tags": []
   },
   "outputs": [
    {
     "data": {
      "text/plain": [
       "<matplotlib.image.AxesImage at 0x24354c48700>"
      ]
     },
     "execution_count": 36,
     "metadata": {},
     "output_type": "execute_result"
    },
    {
     "data": {
      "image/png": "[encoded data removed]",
      "text/plain": [
       "<Figure size 640x480 with 1 Axes>"
      ]
     },
     "metadata": {},
     "output_type": "display_data"
    }
   ],
   "source": [
    "plt.imshow(X_train[0][:,:,0],cmap='gray')\n"
   ]
  },
  {
   "cell_type": "code",
   "execution_count": 37,
   "id": "0ba0e656-194b-46e5-87c9-6c5cdb72b439",
   "metadata": {
    "tags": []
   },
   "outputs": [],
   "source": [
    "# DEVELOPING Y_train MATRIX\n",
    "for index,Y_train_element in enumerate(Y_train_elements):\n",
    "    element_path = os.path.join(Y_train_folder_path, Y_train_element)\n",
    "    img = imread(element_path)\n",
    "    \n",
    "    img = np.mean(img, axis=2)\n",
    "    img = img/255\n",
    "    img = img.reshape((388, 388, 1))\n",
    "    Y_train[index] = img"
   ]
  },
  {
   "cell_type": "code",
   "execution_count": 38,
   "id": "36323e84-6402-4476-92b7-cfc02c702dd6",
   "metadata": {
    "tags": []
   },
   "outputs": [
    {
     "data": {
      "text/plain": [
       "array([[[1.],\n",
       "        [1.],\n",
       "        [1.],\n",
       "        ...,\n",
       "        [1.],\n",
       "        [1.],\n",
       "        [1.]],\n",
       "\n",
       "       [[1.],\n",
       "        [1.],\n",
       "        [1.],\n",
       "        ...,\n",
       "        [1.],\n",
       "        [1.],\n",
       "        [1.]],\n",
       "\n",
       "       [[1.],\n",
       "        [1.],\n",
       "        [1.],\n",
       "        ...,\n",
       "        [1.],\n",
       "        [1.],\n",
       "        [1.]],\n",
       "\n",
       "       ...,\n",
       "\n",
       "       [[1.],\n",
       "        [1.],\n",
       "        [1.],\n",
       "        ...,\n",
       "        [1.],\n",
       "        [1.],\n",
       "        [1.]],\n",
       "\n",
       "       [[1.],\n",
       "        [1.],\n",
       "        [1.],\n",
       "        ...,\n",
       "        [1.],\n",
       "        [1.],\n",
       "        [1.]],\n",
       "\n",
       "       [[1.],\n",
       "        [1.],\n",
       "        [1.],\n",
       "        ...,\n",
       "        [1.],\n",
       "        [1.],\n",
       "        [1.]]])"
      ]
     },
     "execution_count": 38,
     "metadata": {},
     "output_type": "execute_result"
    }
   ],
   "source": [
    "Y_train[0]"
   ]
  },
  {
   "cell_type": "code",
   "execution_count": 39,
   "id": "e3685876-619f-4b23-9708-91d25da353e9",
   "metadata": {
    "tags": []
   },
   "outputs": [
    {
     "data": {
      "text/plain": [
       "<matplotlib.image.AxesImage at 0x24355084250>"
      ]
     },
     "execution_count": 39,
     "metadata": {},
     "output_type": "execute_result"
    },
    {
     "data": {
      "image/png": "[encoded data removed]",
      "text/plain": [
       "<Figure size 640x480 with 1 Axes>"
      ]
     },
     "metadata": {},
     "output_type": "display_data"
    }
   ],
   "source": [
    "plt.imshow(Y_train[15])"
   ]
  },
  {
   "cell_type": "code",
   "execution_count": 40,
   "id": "096418ab-4ca8-459a-ab05-f75a39986357",
   "metadata": {
    "tags": []
   },
   "outputs": [
    {
     "data": {
      "text/plain": [
       "(20, 388, 388, 1)"
      ]
     },
     "execution_count": 40,
     "metadata": {},
     "output_type": "execute_result"
    }
   ],
   "source": [
    "Y_train.shape"
   ]
  },
  {
   "cell_type": "raw",
   "id": "923ce53b-31b2-43f0-b7ae-e53f9b52a44c",
   "metadata": {
    "tags": []
   },
   "source": [
    "from tensorflow.keras.layers import Input, Conv2D, Conv2DTranspose, Concatenate, Cropping2D, ReLU\n",
    "\n",
    "def crop_and_concat(up_input, down_input):\n",
    "\n",
    "    crop_height = (down_input.shape[1] - up_input.shape[1]) //2\n",
    "    crop_width = (down_input.shape[2] - up_input.shape[2]) // 2\n",
    "\n",
    "    cropped_down_input = Cropping2D(cropping=((crop_height, crop_height), (crop_width, crop_width)))(down_input)\n",
    "    \n",
    "    \n",
    "    concatenated = Concatenate()([up_input, cropped_down_input])\n",
    "    \n",
    "    return concatenated"
   ]
  },
  {
   "cell_type": "raw",
   "id": "c8846b9f-5cd1-41d8-b3b2-20e4f0a39272",
   "metadata": {
    "tags": []
   },
   "source": [
    "\n",
    "\n",
    "\n",
    "def unet(input_size=(572, 572, 2)):\n",
    "    inputs = layers.Input(input_size)\n",
    "\n",
    "    # Contracting path\n",
    "    c1 = layers.Conv2D(64, (3, 3), activation='relu', kernel_initializer='he_normal' )(inputs)\n",
    "    c1 = layers.Conv2D(64, (3, 3), activation='relu', kernel_initializer='he_normal')(c1)\n",
    "    p1 = layers.MaxPooling2D((2, 2))(c1)\n",
    "\n",
    "    c2 = layers.Conv2D(128, (3, 3), activation='relu', kernel_initializer='he_normal')(p1)\n",
    "    c2 = layers.Conv2D(128, (3, 3), activation='relu', kernel_initializer='he_normal')(c2)\n",
    "    p2 = layers.MaxPooling2D((2, 2))(c2)\n",
    "\n",
    "    c3 = layers.Conv2D(256, (3, 3), activation='relu', kernel_initializer='he_normal')(p2)\n",
    "    c3 = layers.Conv2D(256, (3, 3), activation='relu', kernel_initializer='he_normal')(c3)\n",
    "    p3 = layers.MaxPooling2D((2, 2))(c3)\n",
    "\n",
    "    c4 = layers.Conv2D(512, (3, 3), activation='relu', kernel_initializer='he_normal')(p3)\n",
    "    c4 = layers.Conv2D(512, (3, 3), activation='relu', kernel_initializer='he_normal')(c4) #64x64x512\n",
    "    p4 = layers.MaxPooling2D(pool_size=(2, 2))(c4)\n",
    "\n",
    "    c5 = layers.Conv2D(1024, (3, 3), activation='relu', kernel_initializer='he_normal')(p4)\n",
    "    c5 = layers.Conv2D(1024, (3, 3), activation='relu', kernel_initializer='he_normal')(c5)\n",
    "\n",
    "    # Expansive path\n",
    "    u6 = layers.Conv2DTranspose(512, (2, 2), strides=(2, 2), padding='same')(c5)\n",
    "    u6 = crop_and_concat(u6, c4)\n",
    "    c6 = layers.Conv2D(512, (3, 3), activation='relu', kernel_initializer='he_normal')(u6)\n",
    "    c6 = layers.Conv2D(512, (3, 3), activation='relu', kernel_initializer='he_normal')(c6)\n",
    "\n",
    "    u7 = layers.Conv2DTranspose(256, (2, 2), strides=(2, 2), padding='same')(c6)\n",
    "    u7 = crop_and_concat(u7, c3)\n",
    "    c7 = layers.Conv2D(256, (3, 3), activation='relu', kernel_initializer='he_normal')(u7)\n",
    "    c7 = layers.Conv2D(256, (3, 3), activation='relu', kernel_initializer='he_normal')(c7)\n",
    "\n",
    "    u8 = layers.Conv2DTranspose(128, (2, 2), strides=(2, 2), padding='same')(c7)\n",
    "    u8 = crop_and_concat(u8, c2)\n",
    "    c8 = layers.Conv2D(128, (3, 3), activation='relu', kernel_initializer='he_normal')(u8)\n",
    "    c8 = layers.Conv2D(128, (3, 3), activation='relu', kernel_initializer='he_normal')(c8)\n",
    "\n",
    "    u9 = layers.Conv2DTranspose(64, (2, 2), strides=(2, 2), padding='same')(c8)\n",
    "    u9 = crop_and_concat(u9, c1)\n",
    "    c9 = layers.Conv2D(64, (3, 3), activation='relu', kernel_initializer='he_normal')(u9)\n",
    "    c9 = layers.Conv2D(64, (3, 3), activation='relu', kernel_initializer='he_normal')(c9)\n",
    "   \n",
    "\n",
    "    outputs = layers.Conv2D(1, (1, 1), activation='sigmoid')(c9)\n",
    "\n",
    "    model = Model(inputs=[inputs], outputs=[outputs])\n",
    "    return model\n",
    "\n",
    "# Example usage\n",
    "model = unet(input_size=(572, 572, 2))\n",
    "\n",
    "model.summary()\n"
   ]
  },
  {
   "cell_type": "code",
   "execution_count": 41,
   "id": "6b1b1d08-3949-4a80-822a-0ee2b0321fbb",
   "metadata": {
    "tags": []
   },
   "outputs": [
    {
     "name": "stdout",
     "output_type": "stream",
     "text": [
      "Model: \"sequential_1\"\n",
      "_________________________________________________________________\n",
      " Layer (type)                Output Shape              Param #   \n",
      "=================================================================\n",
      " conv2d_19 (Conv2D)          (None, 570, 570, 64)      1216      \n",
      "                                                                 \n",
      " batch_normalization_10 (Bat  (None, 570, 570, 64)     256       \n",
      " chNormalization)                                                \n",
      "                                                                 \n",
      " conv2d_20 (Conv2D)          (None, 568, 568, 64)      36928     \n",
      "                                                                 \n",
      " batch_normalization_11 (Bat  (None, 568, 568, 64)     256       \n",
      " chNormalization)                                                \n",
      "                                                                 \n",
      " max_pooling2d_4 (MaxPooling  (None, 284, 284, 64)     0         \n",
      " 2D)                                                             \n",
      "                                                                 \n",
      " conv2d_21 (Conv2D)          (None, 282, 282, 128)     73856     \n",
      "                                                                 \n",
      " batch_normalization_12 (Bat  (None, 282, 282, 128)    512       \n",
      " chNormalization)                                                \n",
      "                                                                 \n",
      " conv2d_22 (Conv2D)          (None, 280, 280, 128)     147584    \n",
      "                                                                 \n",
      " batch_normalization_13 (Bat  (None, 280, 280, 128)    512       \n",
      " chNormalization)                                                \n",
      "                                                                 \n",
      " max_pooling2d_5 (MaxPooling  (None, 140, 140, 128)    0         \n",
      " 2D)                                                             \n",
      "                                                                 \n",
      " conv2d_23 (Conv2D)          (None, 138, 138, 256)     295168    \n",
      "                                                                 \n",
      " batch_normalization_14 (Bat  (None, 138, 138, 256)    1024      \n",
      " chNormalization)                                                \n",
      "                                                                 \n",
      " conv2d_24 (Conv2D)          (None, 136, 136, 256)     590080    \n",
      "                                                                 \n",
      " batch_normalization_15 (Bat  (None, 136, 136, 256)    1024      \n",
      " chNormalization)                                                \n",
      "                                                                 \n",
      " max_pooling2d_6 (MaxPooling  (None, 68, 68, 256)      0         \n",
      " 2D)                                                             \n",
      "                                                                 \n",
      " conv2d_25 (Conv2D)          (None, 66, 66, 512)       1180160   \n",
      "                                                                 \n",
      " batch_normalization_16 (Bat  (None, 66, 66, 512)      2048      \n",
      " chNormalization)                                                \n",
      "                                                                 \n",
      " conv2d_26 (Conv2D)          (None, 64, 64, 512)       2359808   \n",
      "                                                                 \n",
      " batch_normalization_17 (Bat  (None, 64, 64, 512)      2048      \n",
      " chNormalization)                                                \n",
      "                                                                 \n",
      " max_pooling2d_7 (MaxPooling  (None, 32, 32, 512)      0         \n",
      " 2D)                                                             \n",
      "                                                                 \n",
      " conv2d_27 (Conv2D)          (None, 30, 30, 1024)      4719616   \n",
      "                                                                 \n",
      " batch_normalization_18 (Bat  (None, 30, 30, 1024)     4096      \n",
      " chNormalization)                                                \n",
      "                                                                 \n",
      " conv2d_28 (Conv2D)          (None, 28, 28, 1024)      9438208   \n",
      "                                                                 \n",
      " batch_normalization_19 (Bat  (None, 28, 28, 1024)     4096      \n",
      " chNormalization)                                                \n",
      "                                                                 \n",
      " conv2d_transpose_4 (Conv2DT  (None, 56, 56, 512)      2097664   \n",
      " ranspose)                                                       \n",
      "                                                                 \n",
      " conv2d_29 (Conv2D)          (None, 54, 54, 512)       2359808   \n",
      "                                                                 \n",
      " conv2d_30 (Conv2D)          (None, 52, 52, 512)       2359808   \n",
      "                                                                 \n",
      " conv2d_transpose_5 (Conv2DT  (None, 104, 104, 256)    524544    \n",
      " ranspose)                                                       \n",
      "                                                                 \n",
      " conv2d_31 (Conv2D)          (None, 102, 102, 256)     590080    \n",
      "                                                                 \n",
      " conv2d_32 (Conv2D)          (None, 100, 100, 256)     590080    \n",
      "                                                                 \n",
      " conv2d_transpose_6 (Conv2DT  (None, 200, 200, 128)    131200    \n",
      " ranspose)                                                       \n",
      "                                                                 \n",
      " conv2d_33 (Conv2D)          (None, 198, 198, 128)     147584    \n",
      "                                                                 \n",
      " conv2d_34 (Conv2D)          (None, 196, 196, 128)     147584    \n",
      "                                                                 \n",
      " conv2d_transpose_7 (Conv2DT  (None, 392, 392, 64)     32832     \n",
      " ranspose)                                                       \n",
      "                                                                 \n",
      " conv2d_35 (Conv2D)          (None, 390, 390, 64)      36928     \n",
      "                                                                 \n",
      " conv2d_36 (Conv2D)          (None, 388, 388, 64)      36928     \n",
      "                                                                 \n",
      " conv2d_37 (Conv2D)          (None, 388, 388, 1)       65        \n",
      "                                                                 \n",
      "=================================================================\n",
      "Total params: 27,913,601\n",
      "Trainable params: 27,905,665\n",
      "Non-trainable params: 7,936\n",
      "_________________________________________________________________\n"
     ]
    }
   ],
   "source": [
    "def crop_and_concat(up_layer, down_layer):\n",
    "    down_layer_shape = tf.shape(down_layer)\n",
    "    up_layer_shape = tf.shape(up_layer)\n",
    "    offsets = [0, (down_layer_shape[1] - up_layer_shape[1]) // 2, (down_layer_shape[2] - up_layer_shape[2]) // 2, 0]\n",
    "    size = [-1, up_layer_shape[1], up_layer_shape[2], -1]\n",
    "    down_layer_cropped = tf.slice(down_layer, offsets, size)\n",
    "    return tf.concat([down_layer_cropped, up_layer], axis=-1)\n",
    "\n",
    "\n",
    "def unet_sequential(input_size=(572, 572, 2)):\n",
    "    model = Sequential()\n",
    "\n",
    "    # Contracting path\n",
    "    model.add(layers.Input(shape=input_size))\n",
    "    model.add(layers.Conv2D(64, (3, 3), activation='relu', kernel_initializer='he_normal'))\n",
    "    model.add(layers.BatchNormalization())\n",
    "    model.add(layers.Conv2D(64, (3, 3), activation='relu', kernel_initializer='he_normal'))\n",
    "    model.add(layers.BatchNormalization())\n",
    "    c1 = model.layers[-1].output\n",
    "    model.add(layers.MaxPooling2D((2, 2)))\n",
    "\n",
    "    model.add(layers.Conv2D(128, (3, 3), activation='relu', kernel_initializer='he_normal'))\n",
    "    model.add(layers.BatchNormalization())\n",
    "    model.add(layers.Conv2D(128, (3, 3), activation='relu', kernel_initializer='he_normal'))\n",
    "    model.add(layers.BatchNormalization())\n",
    "    c2 = model.layers[-1].output\n",
    "    model.add(layers.MaxPooling2D((2, 2)))\n",
    "\n",
    "    model.add(layers.Conv2D(256, (3, 3), activation='relu', kernel_initializer='he_normal'))\n",
    "    model.add(layers.BatchNormalization())\n",
    "    model.add(layers.Conv2D(256, (3, 3), activation='relu', kernel_initializer='he_normal'))\n",
    "    model.add(layers.BatchNormalization())\n",
    "    c3 = model.layers[-1].output\n",
    "    model.add(layers.MaxPooling2D((2, 2)))\n",
    "\n",
    "    model.add(layers.Conv2D(512, (3, 3), activation='relu', kernel_initializer='he_normal'))\n",
    "    model.add(layers.BatchNormalization())\n",
    "    model.add(layers.Conv2D(512, (3, 3), activation='relu', kernel_initializer='he_normal'))\n",
    "    model.add(layers.BatchNormalization())\n",
    "    c4 = model.layers[-1].output\n",
    "    model.add(layers.MaxPooling2D((2, 2)))\n",
    "\n",
    "    model.add(layers.Conv2D(1024, (3, 3), activation='relu', kernel_initializer='he_normal'))\n",
    "    model.add(layers.BatchNormalization())\n",
    "    model.add(layers.Conv2D(1024, (3, 3), activation='relu', kernel_initializer='he_normal'))\n",
    "    model.add(layers.BatchNormalization())\n",
    "    c5 = model.layers[-1].output\n",
    "\n",
    "    # Expansive path\n",
    "    model.add(layers.Conv2DTranspose(512, (2, 2), strides=(2, 2), padding='same'))\n",
    "    #model.add(layers.Lambda(lambda x: crop_and_concat(x, c4)))\n",
    "    model.add(layers.Conv2D(512, (3, 3), activation='relu', kernel_initializer='he_normal'))\n",
    "    model.add(layers.Conv2D(512, (3, 3), activation='relu', kernel_initializer='he_normal'))\n",
    "\n",
    "    model.add(layers.Conv2DTranspose(256, (2, 2), strides=(2, 2), padding='same'))\n",
    "    #model.add(layers.Lambda(lambda x: crop_and_concat(x, c3)))\n",
    "    model.add(layers.Conv2D(256, (3, 3), activation='relu', kernel_initializer='he_normal'))\n",
    "    model.add(layers.Conv2D(256, (3, 3), activation='relu', kernel_initializer='he_normal'))\n",
    "\n",
    "    model.add(layers.Conv2DTranspose(128, (2, 2), strides=(2, 2), padding='same'))\n",
    "    #model.add(layers.Lambda(lambda x: crop_and_concat(x, c2)))\n",
    "    model.add(layers.Conv2D(128, (3, 3), activation='relu', kernel_initializer='he_normal'))\n",
    "    model.add(layers.Conv2D(128, (3, 3), activation='relu', kernel_initializer='he_normal'))\n",
    "\n",
    "    model.add(layers.Conv2DTranspose(64, (2, 2), strides=(2, 2), padding='same'))\n",
    "    #model.add(layers.Lambda(lambda x: crop_and_concat(x, c1)))\n",
    "    model.add(layers.Conv2D(64, (3, 3), activation='relu', kernel_initializer='he_normal'))\n",
    "    model.add(layers.Conv2D(64, (3, 3), activation='relu', kernel_initializer='he_normal'))\n",
    "\n",
    "    model.add(layers.Conv2D(1, (1, 1), activation='sigmoid'))\n",
    "\n",
    "    return model\n",
    "\n",
    "# Example usage\n",
    "model = unet_sequential(input_size=(572, 572, 2))\n",
    "\n",
    "model.summary()"
   ]
  },
  {
   "cell_type": "code",
   "execution_count": 43,
   "id": "60aedf12-78b2-44cd-a1b9-db35e03dcb0b",
   "metadata": {
    "tags": []
   },
   "outputs": [],
   "source": [
    "#model.compile(optimizer='adam', loss='mean_squared_error', metrics=['accuracy'])"
   ]
  },
  {
   "cell_type": "code",
   "execution_count": 44,
   "id": "659997d5-b1a4-42c9-a80d-0d52eb184081",
   "metadata": {
    "tags": []
   },
   "outputs": [],
   "source": [
    "#model.fit(X_train,Y_train,epochs = 10, batch_size=2)"
   ]
  },
  {
   "cell_type": "raw",
   "id": "9365f031-37ba-4679-9817-7fd637dd2cf1",
   "metadata": {
    "tags": []
   },
   "source": [
    "\n",
    "class PlotPredictions(tf.keras.callbacks.Callback):\n",
    "    def on_epoch_end(self, epoch, logs=None):\n",
    "        print(f\"\\nEpoch {epoch+1} predictions:\")\n",
    "        predictions = self.model.predict(X_train[:2])  # predict on the first two samples for brevity\n",
    "\n",
    "        for i in range(2):\n",
    "            pred = predictions[i].reshape((388, 388))\n",
    "            y_true = Y_train[i].reshape((388, 388))\n",
    "\n",
    "            fig, axes = plt.subplots(1, 2, figsize=(10, 5))\n",
    "            axes[0].imshow(pred, cmap='gray')\n",
    "            axes[0].set_title('Prediction')\n",
    "            axes[0].axis('off')\n",
    "\n",
    "            axes[1].imshow(y_true, cmap='gray')\n",
    "            axes[1].set_title('Ground Truth')\n",
    "            axes[1].axis('off')\n",
    "\n",
    "            plt.show()\n",
    "\n",
    "# Compile and train the model with the callback\n",
    "model.compile(optimizer='adam', loss='mean_squared_error', metrics=['accuracy'])\n",
    "\n"
   ]
  },
  {
   "cell_type": "code",
   "execution_count": 18,
   "id": "103eda3a-3053-464c-ade2-37be7c618aec",
   "metadata": {
    "tags": []
   },
   "outputs": [],
   "source": [
    "#model.fit(X_train, Y_train, epochs=10, batch_size=2, callbacks=[PlotPredictions()])"
   ]
  },
  {
   "cell_type": "code",
   "execution_count": null,
   "id": "55739387-6438-47e2-81a5-015dde073e1b",
   "metadata": {
    "tags": []
   },
   "outputs": [],
   "source": []
  },
  {
   "cell_type": "code",
   "execution_count": null,
   "id": "ca8028ae-ccda-440e-ae3e-3600e199c1d6",
   "metadata": {
    "tags": []
   },
   "outputs": [],
   "source": [
    "#@tf.function\n",
    "train_dataset = tf.data.Dataset.from_tensor_slices((X_train, Y_train))\n",
    "train_dataset = train_dataset.shuffle(10000).batch(1) \n",
    "\n",
    "# gradient accumulation\n",
    "accumulation_steps = 4  # Number of mini-batches to accumulate before updating weights\n",
    "optimizer = tf.keras.optimizers.Adam(learning_rate=0.0002)\n",
    "epochs = 10\n",
    "#loss_fn = tf.keras.losses.MeanSquaredError()\n",
    "loss_fn = tf.keras.losses.BinaryCrossentropy()\n",
    "\n",
    "def train_step(inputs, targets, accum_gradients, first_batch):\n",
    "    with tf.GradientTape() as tape:\n",
    "        predictions = model(inputs, training=True)\n",
    "        \n",
    "        loss = loss_fn(targets, predictions)\n",
    "    gradients = tape.gradient(loss, model.trainable_variables)\n",
    "    \n",
    "    if first_batch:\n",
    "        accum_gradients = gradients\n",
    "    else:\n",
    "        accum_gradients = [accum_grad + grad for accum_grad, grad in zip(accum_gradients, gradients)]\n",
    "    \n",
    "    return accum_gradients, loss\n",
    "\n",
    "for epoch in range(epochs):\n",
    "    print(f\"Epoch {epoch+1}/{epochs}\")\n",
    "    accum_gradients = None\n",
    "    for step, (x_batch, y_batch) in enumerate(train_dataset):\n",
    "        first_batch = (step % accumulation_steps == 0)\n",
    "        accum_gradients, loss = train_step(x_batch, y_batch, accum_gradients, first_batch)\n",
    "        \n",
    "        if (step + 1) % accumulation_steps == 0:\n",
    "            optimizer.apply_gradients(zip(accum_gradients, model.trainable_variables))\n",
    "            accum_gradients = None\n",
    "        print(f\"Step {step+1}, Loss: {loss.numpy()}\")\n",
    "\n",
    "\n",
    "    if accum_gradients is not None:\n",
    "        optimizer.apply_gradients(zip(accum_gradients, model.trainable_variables))"
   ]
  },
  {
   "cell_type": "raw",
   "id": "94d41968-fce3-4f05-9c3f-416acfd6db41",
   "metadata": {
    "tags": []
   },
   "source": [
    "for step, (x_batch, y_batch) in enumerate(train_dataset):\n",
    "        first_batch = (step % accumulation_steps == 0)\n",
    "        accum_gradients, loss = train_step(x_batch, y_batch, accum_gradients, first_batch)"
   ]
  },
  {
   "cell_type": "code",
   "execution_count": null,
   "id": "5fa98fac-dad5-4e92-9e32-cb9237ba3031",
   "metadata": {},
   "outputs": [],
   "source": [
    "model.save(\"UNET_PAPER_100epochs.h5\")"
   ]
  },
  {
   "cell_type": "code",
   "execution_count": 46,
   "id": "fa35cf29-8c17-4322-b029-80a07f2ce045",
   "metadata": {},
   "outputs": [],
   "source": [
    "pred_in_com_1_tmp_path = r\"C:\\Users\\shrir\\OneDrive\\Desktop\\GAN\\GAN_PS\\CCGAN\\mat_ccgan\\disc_temp_mat\\572\\cc_572_temp_cv_273_in.png\"\n",
    "pred_in_com_1_dsp_path = r\"C:\\Users\\shrir\\OneDrive\\Desktop\\GAN\\GAN_PS\\CCGAN\\mat_ccgan\\disc_disp_mat\\572\\cc_572_disp_cv_273_in.png\"\n",
    "pred_in_com_1_tmp = imread(pred_in_com_1_tmp_path)\n",
    "pred_in_com_1_dsp = imread(pred_in_com_1_dsp_path)\n",
    "\n",
    "pred_in_com_1_tmp = pred_in_com_1_tmp.reshape((572, 572, 1))\n",
    "pred_in_com_1_dsp = pred_in_com_1_dsp.reshape((572, 572, 1))\n",
    "\n",
    "pred_in_com_1 = np.concatenate((pred_in_com_1_tmp, pred_in_com_1_dsp), axis=2)"
   ]
  },
  {
   "cell_type": "code",
   "execution_count": 47,
   "id": "9a4e585c-5ec3-42d9-8030-f576b7f2c97c",
   "metadata": {},
   "outputs": [
    {
     "data": {
      "text/plain": [
       "<matplotlib.image.AxesImage at 0x244ca230760>"
      ]
     },
     "execution_count": 47,
     "metadata": {},
     "output_type": "execute_result"
    },
    {
     "data": {
      "image/png": "[encoded data removed]",
      "text/plain": [
       "<Figure size 640x480 with 1 Axes>"
      ]
     },
     "metadata": {},
     "output_type": "display_data"
    }
   ],
   "source": [
    "plt.imshow(pred_in_com_1_tmp, cmap = 'gray')"
   ]
  },
  {
   "cell_type": "code",
   "execution_count": 48,
   "id": "92f252e9-7760-43a2-a524-ebce6b916a63",
   "metadata": {},
   "outputs": [
    {
     "data": {
      "text/plain": [
       "<matplotlib.image.AxesImage at 0x24353d8aca0>"
      ]
     },
     "execution_count": 48,
     "metadata": {},
     "output_type": "execute_result"
    },
    {
     "data": {
      "image/png": "[encoded data removed]",
      "text/plain": [
       "<Figure size 640x480 with 1 Axes>"
      ]
     },
     "metadata": {},
     "output_type": "display_data"
    }
   ],
   "source": [
    "plt.imshow(pred_in_com_1_dsp, cmap = 'gray')"
   ]
  },
  {
   "cell_type": "code",
   "execution_count": null,
   "id": "a324f569-d313-4655-ba15-d8699bc4a3d6",
   "metadata": {},
   "outputs": [],
   "source": [
    "pred_in_com_1 = pred_in_com_1.reshape((1,572,572,2))\n",
    "\n",
    "pred_out_com_1 = model.predict(pred_in_com_1)\n",
    "\n",
    "pred_out_com_1 = pred_out_com_1.reshape((388, 388))\n",
    "\n",
    "plt.imshow(pred_out_com_1, cmap = 'gray')"
   ]
  },
  {
   "cell_type": "code",
   "execution_count": null,
   "id": "59b63fb2-83e2-4bca-a2cb-8a8616ef61cb",
   "metadata": {},
   "outputs": [],
   "source": []
  },
  {
   "cell_type": "code",
   "execution_count": 62,
   "id": "580e0017-23d8-4443-a81a-041943b13cc3",
   "metadata": {
    "tags": []
   },
   "outputs": [],
   "source": [
    "img = model(tf.expand_dims(X_train[5],axis=0))"
   ]
  },
  {
   "cell_type": "code",
   "execution_count": 65,
   "id": "3fbc85bd-b9d1-4e53-a8c0-2baea8f9b12f",
   "metadata": {
    "tags": []
   },
   "outputs": [
    {
     "name": "stdout",
     "output_type": "stream",
     "text": [
      "(388, 388)\n"
     ]
    }
   ],
   "source": [
    "\n",
    "\n",
    "# If you prefer using array slicing directly:\n",
    "img_array = img[0, :, :, 0]  # Extract the inner 2D array\n",
    "print(img_array.shape)  # Should print (388, 388)"
   ]
  },
  {
   "cell_type": "code",
   "execution_count": 66,
   "id": "4aa9757d-11b1-41a5-ae37-d2e5b1ace8be",
   "metadata": {
    "tags": []
   },
   "outputs": [
    {
     "data": {
      "text/plain": [
       "<tf.Tensor: shape=(388, 388), dtype=float32, numpy=\n",
       "array([[1., 1., 1., ..., 1., 1., 1.],\n",
       "       [1., 1., 1., ..., 1., 1., 1.],\n",
       "       [1., 1., 1., ..., 1., 1., 1.],\n",
       "       ...,\n",
       "       [1., 1., 1., ..., 1., 1., 1.],\n",
       "       [1., 1., 1., ..., 1., 1., 1.],\n",
       "       [1., 1., 1., ..., 1., 1., 1.]], dtype=float32)>"
      ]
     },
     "execution_count": 66,
     "metadata": {},
     "output_type": "execute_result"
    }
   ],
   "source": [
    "img_array"
   ]
  },
  {
   "cell_type": "code",
   "execution_count": 69,
   "id": "2666fa93-2480-4c2f-a096-2b407b86cd8f",
   "metadata": {
    "tags": []
   },
   "outputs": [
    {
     "data": {
      "text/plain": [
       "<matplotlib.image.AxesImage at 0x2c156dcbf40>"
      ]
     },
     "execution_count": 69,
     "metadata": {},
     "output_type": "execute_result"
    },
    {
     "data": {
      "image/png": "[encoded data removed]",
      "text/plain": [
       "<Figure size 640x480 with 1 Axes>"
      ]
     },
     "metadata": {},
     "output_type": "display_data"
    }
   ],
   "source": [
    "img_array*=255\n",
    "plt.imshow(img_array,cmap='gray')"
   ]
  },
  {
   "cell_type": "code",
   "execution_count": 68,
   "id": "fbadd94d-c17d-4041-848a-0ded77d13d1f",
   "metadata": {
    "tags": []
   },
   "outputs": [
    {
     "data": {
      "text/plain": [
       "<tf.Tensor: shape=(388, 388), dtype=float32, numpy=\n",
       "array([[255., 255., 255., ..., 255., 255., 255.],\n",
       "       [255., 255., 255., ..., 255., 255., 255.],\n",
       "       [255., 255., 255., ..., 255., 255., 255.],\n",
       "       ...,\n",
       "       [255., 255., 255., ..., 255., 255., 255.],\n",
       "       [255., 255., 255., ..., 255., 255., 255.],\n",
       "       [255., 255., 255., ..., 255., 255., 255.]], dtype=float32)>"
      ]
     },
     "execution_count": 68,
     "metadata": {},
     "output_type": "execute_result"
    }
   ],
   "source": [
    "img_array"
   ]
  },
  {
   "cell_type": "code",
   "execution_count": 61,
   "id": "698a0521-7ff6-42c6-883f-e285bff8a299",
   "metadata": {
    "tags": []
   },
   "outputs": [
    {
     "ename": "AttributeError",
     "evalue": "EagerTensor object has no attribute 'reshape'. \n        If you are looking for numpy-related methods, please run the following:\n        from tensorflow.python.ops.numpy_ops import np_config\n        np_config.enable_numpy_behavior()\n      ",
     "output_type": "error",
     "traceback": [
      "\u001b[1;31m---------------------------------------------------------------------------\u001b[0m",
      "\u001b[1;31mAttributeError\u001b[0m                            Traceback (most recent call last)",
      "Cell \u001b[1;32mIn[61], line 1\u001b[0m\n\u001b[1;32m----> 1\u001b[0m plt\u001b[38;5;241m.\u001b[39mimshow(\u001b[43mimg\u001b[49m\u001b[38;5;241;43m.\u001b[39;49m\u001b[43mreshape\u001b[49m(\u001b[38;5;241m388\u001b[39m,\u001b[38;5;241m388\u001b[39m))\n",
      "File \u001b[1;32m~\\anaconda3\\envs\\gpu_main\\lib\\site-packages\\tensorflow\\python\\framework\\ops.py:440\u001b[0m, in \u001b[0;36mTensor.__getattr__\u001b[1;34m(self, name)\u001b[0m\n\u001b[0;32m    436\u001b[0m \u001b[38;5;28;01mdef\u001b[39;00m \u001b[38;5;21m__getattr__\u001b[39m(\u001b[38;5;28mself\u001b[39m, name):\n\u001b[0;32m    437\u001b[0m   \u001b[38;5;28;01mif\u001b[39;00m name \u001b[38;5;129;01min\u001b[39;00m {\u001b[38;5;124m\"\u001b[39m\u001b[38;5;124mT\u001b[39m\u001b[38;5;124m\"\u001b[39m, \u001b[38;5;124m\"\u001b[39m\u001b[38;5;124mastype\u001b[39m\u001b[38;5;124m\"\u001b[39m, \u001b[38;5;124m\"\u001b[39m\u001b[38;5;124mravel\u001b[39m\u001b[38;5;124m\"\u001b[39m, \u001b[38;5;124m\"\u001b[39m\u001b[38;5;124mtranspose\u001b[39m\u001b[38;5;124m\"\u001b[39m, \u001b[38;5;124m\"\u001b[39m\u001b[38;5;124mreshape\u001b[39m\u001b[38;5;124m\"\u001b[39m, \u001b[38;5;124m\"\u001b[39m\u001b[38;5;124mclip\u001b[39m\u001b[38;5;124m\"\u001b[39m, \u001b[38;5;124m\"\u001b[39m\u001b[38;5;124msize\u001b[39m\u001b[38;5;124m\"\u001b[39m,\n\u001b[0;32m    438\u001b[0m               \u001b[38;5;124m\"\u001b[39m\u001b[38;5;124mtolist\u001b[39m\u001b[38;5;124m\"\u001b[39m, \u001b[38;5;124m\"\u001b[39m\u001b[38;5;124mdata\u001b[39m\u001b[38;5;124m\"\u001b[39m}:\n\u001b[0;32m    439\u001b[0m     \u001b[38;5;66;03m# TODO(wangpeng): Export the enable_numpy_behavior knob\u001b[39;00m\n\u001b[1;32m--> 440\u001b[0m     \u001b[38;5;28;01mraise\u001b[39;00m \u001b[38;5;167;01mAttributeError\u001b[39;00m(\n\u001b[0;32m    441\u001b[0m         \u001b[38;5;124mf\u001b[39m\u001b[38;5;124m\"\u001b[39m\u001b[38;5;132;01m{\u001b[39;00m\u001b[38;5;28mtype\u001b[39m(\u001b[38;5;28mself\u001b[39m)\u001b[38;5;241m.\u001b[39m\u001b[38;5;18m__name__\u001b[39m\u001b[38;5;132;01m}\u001b[39;00m\u001b[38;5;124m object has no attribute \u001b[39m\u001b[38;5;124m'\u001b[39m\u001b[38;5;132;01m{\u001b[39;00mname\u001b[38;5;132;01m}\u001b[39;00m\u001b[38;5;124m'\u001b[39m\u001b[38;5;124m. \u001b[39m\u001b[38;5;124m\"\u001b[39m \u001b[38;5;241m+\u001b[39m \u001b[38;5;124m\"\"\"\u001b[39m\n\u001b[0;32m    442\u001b[0m \u001b[38;5;124m      If you are looking for numpy-related methods, please run the following:\u001b[39m\n\u001b[0;32m    443\u001b[0m \u001b[38;5;124m      from tensorflow.python.ops.numpy_ops import np_config\u001b[39m\n\u001b[0;32m    444\u001b[0m \u001b[38;5;124m      np_config.enable_numpy_behavior()\u001b[39m\n\u001b[0;32m    445\u001b[0m \u001b[38;5;124m    \u001b[39m\u001b[38;5;124m\"\"\"\u001b[39m)\n\u001b[0;32m    446\u001b[0m   \u001b[38;5;28mself\u001b[39m\u001b[38;5;241m.\u001b[39m\u001b[38;5;21m__getattribute__\u001b[39m(name)\n",
      "\u001b[1;31mAttributeError\u001b[0m: EagerTensor object has no attribute 'reshape'. \n        If you are looking for numpy-related methods, please run the following:\n        from tensorflow.python.ops.numpy_ops import np_config\n        np_config.enable_numpy_behavior()\n      "
     ]
    }
   ],
   "source": [
    "plt.imshow(img.reshape(388,388))"
   ]
  },
  {
   "cell_type": "code",
   "execution_count": 40,
   "id": "d6145b50-4b90-4da4-9995-922e74432bfd",
   "metadata": {},
   "outputs": [
    {
     "data": {
      "text/plain": [
       "<matplotlib.image.AxesImage at 0x2c1546d7670>"
      ]
     },
     "execution_count": 40,
     "metadata": {},
     "output_type": "execute_result"
    },
    {
     "data": {
      "image/png": "[encoded data removed]",
      "text/plain": [
       "<Figure size 640x480 with 1 Axes>"
      ]
     },
     "metadata": {},
     "output_type": "display_data"
    }
   ],
   "source": [
    "plt.imshow(img[0],cmap='gray')"
   ]
  },
  {
   "cell_type": "code",
   "execution_count": 42,
   "id": "861f7c44-59ba-4070-bb32-db1193ef4647",
   "metadata": {
    "tags": []
   },
   "outputs": [
    {
     "data": {
      "text/plain": [
       "(388, 388, 1)"
      ]
     },
     "execution_count": 42,
     "metadata": {},
     "output_type": "execute_result"
    }
   ],
   "source": [
    "Y_train[0].shape"
   ]
  },
  {
   "cell_type": "code",
   "execution_count": 44,
   "id": "5e0038e3-5e8a-402e-a9d3-312a5b82be31",
   "metadata": {
    "tags": []
   },
   "outputs": [
    {
     "data": {
      "text/plain": [
       "<matplotlib.image.AxesImage at 0x2c154764ac0>"
      ]
     },
     "execution_count": 44,
     "metadata": {},
     "output_type": "execute_result"
    },
    {
     "data": {
      "image/png": "[encoded data removed]",
      "text/plain": [
       "<Figure size 640x480 with 1 Axes>"
      ]
     },
     "metadata": {},
     "output_type": "display_data"
    }
   ],
   "source": [
    "plt.imshow(Y_train[5].reshape(388,388),cmap='gray')"
   ]
  },
  {
   "cell_type": "code",
   "execution_count": null,
   "id": "7b652837-20ea-4998-a196-0c6226314483",
   "metadata": {},
   "outputs": [],
   "source": []
  }
 ],
 "metadata": {
  "kernelspec": {
   "display_name": "gpu_main",
   "language": "python",
   "name": "gpu_main"
  },
  "language_info": {
   "codemirror_mode": {
    "name": "ipython",
    "version": 3
   },
   "file_extension": ".py",
   "mimetype": "text/x-python",
   "name": "python",
   "nbconvert_exporter": "python",
   "pygments_lexer": "ipython3",
   "version": "3.9.19"
  }
 },
 "nbformat": 4,
 "nbformat_minor": 5
}
