{
 "cells": [
  {
   "cell_type": "code",
   "execution_count": 1,
   "id": "56793669-b409-439e-a6cd-09b92598051d",
   "metadata": {
    "tags": []
   },
   "outputs": [],
   "source": [
    "import tensorflow as tf\n",
    "from tensorflow.keras.datasets import cifar10\n",
    "from tensorflow.keras.optimizers import Adam\n",
    "from tensorflow.keras.models import Model\n",
    "from tensorflow.keras.layers import Input, Dense, Reshape, Flatten, Conv2D, Conv2DTranspose\n",
    "from tensorflow.keras.layers import LeakyReLU, ReLU, Dropout, Embedding, Concatenate, BatchNormalization\n",
    "from numpy import zeros, ones\n",
    "from numpy.random import randn, randint\n",
    "from matplotlib import pyplot as plt\n"
   ]
  },
  {
   "cell_type": "code",
   "execution_count": 2,
   "id": "db3992f7",
   "metadata": {},
   "outputs": [],
   "source": [
    "#pip install tensorflow"
   ]
  },
  {
   "cell_type": "code",
   "execution_count": 2,
   "id": "9036a985",
   "metadata": {
    "tags": []
   },
   "outputs": [],
   "source": [
    "import os\n",
    "import cv2\n",
    "import pandas as pd\n",
    "import numpy as np\n",
    "import tensorflow as tf\n",
    "import matplotlib.pyplot as plt\n",
    "from matplotlib.image import imread"
   ]
  },
  {
   "cell_type": "code",
   "execution_count": 3,
   "id": "0348480e",
   "metadata": {
    "tags": []
   },
   "outputs": [],
   "source": [
    "import tensorflow as tf\n",
    "from tensorflow.keras.models import Sequential, Model\n",
    "from tensorflow.keras.layers import Conv2D, Conv2DTranspose, MaxPool2D\n",
    "from tensorflow.keras.layers import ReLU, Dropout, Flatten, Dense\n",
    "from tensorflow.keras.optimizers import Adam\n",
    "from tensorflow.keras.initializers import RandomNormal\n",
    "from tensorflow.keras.layers import Input, Activation, Concatenate, BatchNormalization\n",
    "from numpy import zeros, ones\n",
    "from numpy.random import randint\n"
   ]
  },
  {
   "cell_type": "code",
   "execution_count": 4,
   "id": "ab18862f",
   "metadata": {},
   "outputs": [],
   "source": [
    "################################################################################################################################"
   ]
  },
  {
   "cell_type": "code",
   "execution_count": 5,
   "id": "934adf34",
   "metadata": {
    "tags": []
   },
   "outputs": [],
   "source": [
    "\n",
    "target_folder_path = r\"C:\\Users\\shrir\\OneDrive\\Desktop\\GAN\\GAN_PS\\DATASET\\OLD_20\\outputs\"\n"
   ]
  },
  {
   "cell_type": "code",
   "execution_count": 6,
   "id": "18d02d60",
   "metadata": {
    "tags": []
   },
   "outputs": [],
   "source": [
    "\n",
    "target_elements = os.listdir(target_folder_path)"
   ]
  },
  {
   "cell_type": "code",
   "execution_count": 7,
   "id": "7ed414c7",
   "metadata": {
    "tags": []
   },
   "outputs": [],
   "source": [
    "disc_temp_path = r\"C:\\Users\\shrir\\OneDrive\\Desktop\\GAN\\GAN_PS\\DATASET\\mat_ccgan\\disc_disp_mat\"\n",
    "disc_disp_path = r\"C:\\Users\\shrir\\OneDrive\\Desktop\\GAN\\GAN_PS\\DATASET\\mat_ccgan\\disc_disp_mat\"\n",
    "gen_temp_path = r\"C:\\Users\\shrir\\OneDrive\\Desktop\\GAN\\GAN_PS\\DATASET\\mat_ccgan\\gen_temp_mat\"\n",
    "gen_disp_path = r\"C:\\Users\\shrir\\OneDrive\\Desktop\\GAN\\GAN_PS\\DATASET\\mat_ccgan\\gen_disp_mat\""
   ]
  },
  {
   "cell_type": "code",
   "execution_count": 8,
   "id": "c658dee3",
   "metadata": {
    "tags": []
   },
   "outputs": [],
   "source": [
    "# DEVELOPING X_train MATRIX\n",
    "\n",
    "def get_images(tmp_elements,disp_elements,y_elements,size,id):\n",
    "  X= np.zeros((size,id,id,2))\n",
    "  \n",
    "  for index, (tmp_element, dsp_element) in enumerate(zip(tmp_elements, disp_elements)):\n",
    "      # Load images for each channel\n",
    "      tmp_element_path = os.path.join(disc_temp_path,str(id))\n",
    "      tmp_element_path = os.path.join(tmp_element_path,tmp_elements[index])\n",
    "      dsp_element_path = os.path.join(disc_disp_path,str(id))\n",
    "      dsp_element_path = os.path.join(dsp_element_path,disp_elements[index])\n",
    "      #print(tmp_elements[index]) \n",
    "    \n",
    "      img_tmp = imread(tmp_element_path)\n",
    "      img_dsp = imread(dsp_element_path)\n",
    "\n",
    "      # Reshape images for each channel\n",
    "      \n",
    "      img_tmp = img_tmp.reshape((id,id, 1))\n",
    "      img_dsp = img_dsp.reshape((id,id, 1))\n",
    "      #print(img_tmp)\n",
    "      img_tmp=img_tmp/127.5-1\n",
    "    \n",
    "      img_dsp=img_dsp/127.5-1\n",
    "      # Combine channels\n",
    "      #print(img_tmp.shape)\n",
    "      img_combined = (np.concatenate((img_tmp, img_dsp), axis=2))\n",
    "    \n",
    "      print(img_combined.min,img_combined.max)   \n",
    "      #print(img_combined)\n",
    "      # Assign to X_train\n",
    "      X[index] = img_combined\n",
    "  return X\n",
    "\n",
    "\n",
    "def get_Y(y_elements,size=20):\n",
    "  Y= np.zeros((size,256,256,1))\n",
    "  # DEVELOPING Y_train MATRIX\n",
    "  for index,Y_train_element in enumerate(y_elements):\n",
    "      element_path = os.path.join(target_folder_path,target_elements[index])\n",
    "      #print(element_path)\n",
    "      img = imread(element_path)\n",
    "      img = np.mean(img, axis=2)\n",
    "      img = img/255\n",
    "        \n",
    "      img = img.reshape((256, 256, 1))\n",
    "      Y[index] = img\n",
    "  return Y"
   ]
  },
  {
   "cell_type": "code",
   "execution_count": 9,
   "id": "a8f2e9c6-b8e0-43f0-8289-8c7ef5debd87",
   "metadata": {
    "tags": []
   },
   "outputs": [
    {
     "name": "stdout",
     "output_type": "stream",
     "text": [
      "[[[255 255 255]\n",
      "  [255 255 255]\n",
      "  [255 255 255]\n",
      "  ...\n",
      "  [255 255 255]\n",
      "  [255 255 255]\n",
      "  [255 255 255]]\n",
      "\n",
      " [[255 255 255]\n",
      "  [255 255 255]\n",
      "  [255 255 255]\n",
      "  ...\n",
      "  [255 255 255]\n",
      "  [255 255 255]\n",
      "  [255 255 255]]\n",
      "\n",
      " [[255 255 255]\n",
      "  [255 255 255]\n",
      "  [255 255 255]\n",
      "  ...\n",
      "  [255 255 255]\n",
      "  [255 255 255]\n",
      "  [255 255 255]]\n",
      "\n",
      " ...\n",
      "\n",
      " [[255 255 255]\n",
      "  [255 255 255]\n",
      "  [255 255 255]\n",
      "  ...\n",
      "  [255 255 255]\n",
      "  [255 255 255]\n",
      "  [255 255 255]]\n",
      "\n",
      " [[255 255 255]\n",
      "  [255 255 255]\n",
      "  [255 255 255]\n",
      "  ...\n",
      "  [255 255 255]\n",
      "  [255 255 255]\n",
      "  [255 255 255]]\n",
      "\n",
      " [[255 255 255]\n",
      "  [255 255 255]\n",
      "  [255 255 255]\n",
      "  ...\n",
      "  [255 255 255]\n",
      "  [255 255 255]\n",
      "  [255 255 255]]]\n"
     ]
    }
   ],
   "source": [
    "img = cv2.imread(r\"C:\\Users\\shrir\\OneDrive\\Desktop\\GAN\\GAN_PS\\DATASET\\OLD_20\\outputs\\CIR_VANE_Shape_75.jpeg\")\n",
    "\n",
    "print(img)"
   ]
  },
  {
   "cell_type": "code",
   "execution_count": 10,
   "id": "4e3ad775",
   "metadata": {
    "tags": []
   },
   "outputs": [],
   "source": [
    "import os\n",
    "\n",
    "temp_256 = sorted(os.listdir(os.path.join(disc_temp_path, '256')))\n",
    "disp_256 = sorted(os.listdir(os.path.join(disc_temp_path, '256')))\n",
    "\n",
    "\n",
    "\n",
    "disc_temp_128 = sorted(os.listdir(os.path.join(disc_temp_path, '128')))\n",
    "disc_temp_64 = sorted(os.listdir(os.path.join(disc_temp_path, '64')))\n",
    "disc_temp_32 = sorted(os.listdir(os.path.join(disc_temp_path, '32')))\n",
    "disc_temp_16 = sorted(os.listdir(os.path.join(disc_temp_path, '16')))\n",
    "\n",
    "gen_temp_64 = sorted(os.listdir(os.path.join(gen_temp_path, '64')))\n",
    "gen_temp_16 = sorted(os.listdir(os.path.join(gen_temp_path, '16')))\n",
    "\n",
    "disc_disp_128 = sorted(os.listdir(os.path.join(disc_disp_path, '128')))\n",
    "disc_disp_64 = sorted(os.listdir(os.path.join(disc_disp_path, '64')))\n",
    "disc_disp_32 = sorted(os.listdir(os.path.join(disc_disp_path, '32')))\n",
    "disc_disp_16 = sorted(os.listdir(os.path.join(disc_disp_path, '16')))\n",
    "\n",
    "gen_disp_64 = sorted(os.listdir(os.path.join(gen_disp_path, '64')))\n",
    "gen_disp_16 = sorted(os.listdir(os.path.join(gen_disp_path, '16')))\n",
    "\n",
    "\n",
    "tmp_array = [disc_temp_128,disc_temp_64,disc_temp_32,disc_temp_16,temp_256]\n",
    "disp_array = [disc_disp_128,disc_disp_64,disc_disp_32,disc_disp_16,disp_256]"
   ]
  },
  {
   "cell_type": "code",
   "execution_count": 11,
   "id": "68fa6c2a",
   "metadata": {
    "tags": []
   },
   "outputs": [
    {
     "data": {
      "text/plain": [
       "['cc_256_disp_cv_1012_in.png',\n",
       " 'cc_256_disp_cv_1094_in.png',\n",
       " 'cc_256_disp_cv_1138_in.png',\n",
       " 'cc_256_disp_cv_1143_in.png',\n",
       " 'cc_256_disp_cv_1198_in.png',\n",
       " 'cc_256_disp_cv_273_in.png',\n",
       " 'cc_256_disp_cv_453_in.png',\n",
       " 'cc_256_disp_cv_466_in.png',\n",
       " 'cc_256_disp_cv_487_in.png',\n",
       " 'cc_256_disp_cv_522_in.png',\n",
       " 'cc_256_disp_cv_579_in.png',\n",
       " 'cc_256_disp_cv_595_in.png',\n",
       " 'cc_256_disp_cv_605_in.png',\n",
       " 'cc_256_disp_cv_691_in.png',\n",
       " 'cc_256_disp_cv_720_in.png',\n",
       " 'cc_256_disp_cv_75_in.png',\n",
       " 'cc_256_disp_cv_790_in.png',\n",
       " 'cc_256_disp_cv_842_in.png',\n",
       " 'cc_256_disp_cv_870_in.png',\n",
       " 'cc_256_disp_cv_889_in.png']"
      ]
     },
     "execution_count": 11,
     "metadata": {},
     "output_type": "execute_result"
    }
   ],
   "source": [
    "tmp_array[4]"
   ]
  },
  {
   "cell_type": "code",
   "execution_count": 12,
   "id": "493e5573",
   "metadata": {
    "tags": []
   },
   "outputs": [
    {
     "data": {
      "text/plain": [
       "'CIR_VANE_Shape_1012.jpeg'"
      ]
     },
     "execution_count": 12,
     "metadata": {},
     "output_type": "execute_result"
    }
   ],
   "source": [
    "target_elements[0]"
   ]
  },
  {
   "cell_type": "code",
   "execution_count": 13,
   "id": "a58e97ee",
   "metadata": {
    "tags": []
   },
   "outputs": [],
   "source": [
    "temp = [342.4,343.8,342.9,341,340.6,345.4,340.5,340.3,337.8,339.4,337.2,345,343.5,339.2,340.5,337.5,340.4,342.8,338.9,341]\n",
    "disp = [0.4031,0.4140,0.4002,0.3952,0.3912,0.4088,0.3963,0.3956,0.3933,0.3902,0.3886,0.4059,0.4052,0.3996,0.3936,0.3962,0.4052,0.4073,0.3993,0.4006]"
   ]
  },
  {
   "cell_type": "code",
   "execution_count": 14,
   "id": "70e0421f",
   "metadata": {
    "tags": []
   },
   "outputs": [],
   "source": [
    "for i in range(20): \n",
    "    temp[i] = tf.convert_to_tensor(temp[i])\n",
    "    temp[i]=tf.expand_dims(temp[i], axis=0)\n",
    "    temp[i]=tf.broadcast_to(temp[i], (1, 1))\n",
    "    \n",
    "    disp[i] = tf.convert_to_tensor(disp[i])\n",
    "    disp[i]=tf.expand_dims(disp[i], axis=0)\n",
    "    disp[i]=tf.broadcast_to(disp[i], (1, 1))"
   ]
  },
  {
   "cell_type": "code",
   "execution_count": 15,
   "id": "27ec56f2",
   "metadata": {
    "tags": []
   },
   "outputs": [
    {
     "name": "stdout",
     "output_type": "stream",
     "text": [
      "<built-in method min of numpy.ndarray object at 0x0000020587512390> <built-in method max of numpy.ndarray object at 0x0000020587512390>\n",
      "<built-in method min of numpy.ndarray object at 0x0000020587512690> <built-in method max of numpy.ndarray object at 0x0000020587512690>\n",
      "<built-in method min of numpy.ndarray object at 0x0000020587512810> <built-in method max of numpy.ndarray object at 0x0000020587512810>\n",
      "<built-in method min of numpy.ndarray object at 0x0000020587512990> <built-in method max of numpy.ndarray object at 0x0000020587512990>\n",
      "<built-in method min of numpy.ndarray object at 0x00000205875123F0> <built-in method max of numpy.ndarray object at 0x00000205875123F0>\n",
      "<built-in method min of numpy.ndarray object at 0x0000020587512870> <built-in method max of numpy.ndarray object at 0x0000020587512870>\n",
      "<built-in method min of numpy.ndarray object at 0x00000205875129F0> <built-in method max of numpy.ndarray object at 0x00000205875129F0>\n",
      "<built-in method min of numpy.ndarray object at 0x0000020587512A50> <built-in method max of numpy.ndarray object at 0x0000020587512A50>\n",
      "<built-in method min of numpy.ndarray object at 0x0000020587512AB0> <built-in method max of numpy.ndarray object at 0x0000020587512AB0>\n",
      "<built-in method min of numpy.ndarray object at 0x0000020587512B10> <built-in method max of numpy.ndarray object at 0x0000020587512B10>\n",
      "<built-in method min of numpy.ndarray object at 0x0000020587512B70> <built-in method max of numpy.ndarray object at 0x0000020587512B70>\n",
      "<built-in method min of numpy.ndarray object at 0x0000020587512BD0> <built-in method max of numpy.ndarray object at 0x0000020587512BD0>\n",
      "<built-in method min of numpy.ndarray object at 0x0000020587512C30> <built-in method max of numpy.ndarray object at 0x0000020587512C30>\n",
      "<built-in method min of numpy.ndarray object at 0x0000020587512C90> <built-in method max of numpy.ndarray object at 0x0000020587512C90>\n",
      "<built-in method min of numpy.ndarray object at 0x0000020587512CF0> <built-in method max of numpy.ndarray object at 0x0000020587512CF0>\n",
      "<built-in method min of numpy.ndarray object at 0x0000020587512D50> <built-in method max of numpy.ndarray object at 0x0000020587512D50>\n",
      "<built-in method min of numpy.ndarray object at 0x0000020587512DB0> <built-in method max of numpy.ndarray object at 0x0000020587512DB0>\n",
      "<built-in method min of numpy.ndarray object at 0x0000020587512E10> <built-in method max of numpy.ndarray object at 0x0000020587512E10>\n",
      "<built-in method min of numpy.ndarray object at 0x00000205CFB55AB0> <built-in method max of numpy.ndarray object at 0x00000205CFB55AB0>\n",
      "<built-in method min of numpy.ndarray object at 0x0000020587512ED0> <built-in method max of numpy.ndarray object at 0x0000020587512ED0>\n",
      "<built-in method min of numpy.ndarray object at 0x0000020587512D50> <built-in method max of numpy.ndarray object at 0x0000020587512D50>\n",
      "<built-in method min of numpy.ndarray object at 0x0000020587512C90> <built-in method max of numpy.ndarray object at 0x0000020587512C90>\n",
      "<built-in method min of numpy.ndarray object at 0x0000020587512DB0> <built-in method max of numpy.ndarray object at 0x0000020587512DB0>\n",
      "<built-in method min of numpy.ndarray object at 0x0000020587512B10> <built-in method max of numpy.ndarray object at 0x0000020587512B10>\n",
      "<built-in method min of numpy.ndarray object at 0x0000020587512CF0> <built-in method max of numpy.ndarray object at 0x0000020587512CF0>\n",
      "<built-in method min of numpy.ndarray object at 0x0000020587512C30> <built-in method max of numpy.ndarray object at 0x0000020587512C30>\n",
      "<built-in method min of numpy.ndarray object at 0x0000020587512AB0> <built-in method max of numpy.ndarray object at 0x0000020587512AB0>\n",
      "<built-in method min of numpy.ndarray object at 0x0000020587512A50> <built-in method max of numpy.ndarray object at 0x0000020587512A50>\n",
      "<built-in method min of numpy.ndarray object at 0x00000205875129F0> <built-in method max of numpy.ndarray object at 0x00000205875129F0>\n",
      "<built-in method min of numpy.ndarray object at 0x0000020587512870> <built-in method max of numpy.ndarray object at 0x0000020587512870>\n",
      "<built-in method min of numpy.ndarray object at 0x00000205875123F0> <built-in method max of numpy.ndarray object at 0x00000205875123F0>\n",
      "<built-in method min of numpy.ndarray object at 0x0000020587512990> <built-in method max of numpy.ndarray object at 0x0000020587512990>\n",
      "<built-in method min of numpy.ndarray object at 0x0000020587512810> <built-in method max of numpy.ndarray object at 0x0000020587512810>\n",
      "<built-in method min of numpy.ndarray object at 0x0000020587512690> <built-in method max of numpy.ndarray object at 0x0000020587512690>\n",
      "<built-in method min of numpy.ndarray object at 0x0000020587512390> <built-in method max of numpy.ndarray object at 0x0000020587512390>\n",
      "<built-in method min of numpy.ndarray object at 0x00000205875128D0> <built-in method max of numpy.ndarray object at 0x00000205875128D0>\n",
      "<built-in method min of numpy.ndarray object at 0x00000205875126F0> <built-in method max of numpy.ndarray object at 0x00000205875126F0>\n",
      "<built-in method min of numpy.ndarray object at 0x0000020587512ED0> <built-in method max of numpy.ndarray object at 0x0000020587512ED0>\n",
      "<built-in method min of numpy.ndarray object at 0x0000020587512F30> <built-in method max of numpy.ndarray object at 0x0000020587512F30>\n",
      "<built-in method min of numpy.ndarray object at 0x0000020587512E10> <built-in method max of numpy.ndarray object at 0x0000020587512E10>\n",
      "<built-in method min of numpy.ndarray object at 0x00000205875126F0> <built-in method max of numpy.ndarray object at 0x00000205875126F0>\n",
      "<built-in method min of numpy.ndarray object at 0x0000020587512390> <built-in method max of numpy.ndarray object at 0x0000020587512390>\n",
      "<built-in method min of numpy.ndarray object at 0x0000020587512ED0> <built-in method max of numpy.ndarray object at 0x0000020587512ED0>\n",
      "<built-in method min of numpy.ndarray object at 0x00000205875123F0> <built-in method max of numpy.ndarray object at 0x00000205875123F0>\n",
      "<built-in method min of numpy.ndarray object at 0x00000205875128D0> <built-in method max of numpy.ndarray object at 0x00000205875128D0>\n",
      "<built-in method min of numpy.ndarray object at 0x0000020587512690> <built-in method max of numpy.ndarray object at 0x0000020587512690>\n",
      "<built-in method min of numpy.ndarray object at 0x0000020587512870> <built-in method max of numpy.ndarray object at 0x0000020587512870>\n",
      "<built-in method min of numpy.ndarray object at 0x00000205875129F0> <built-in method max of numpy.ndarray object at 0x00000205875129F0>\n",
      "<built-in method min of numpy.ndarray object at 0x0000020587512A50> <built-in method max of numpy.ndarray object at 0x0000020587512A50>\n",
      "<built-in method min of numpy.ndarray object at 0x0000020587512AB0> <built-in method max of numpy.ndarray object at 0x0000020587512AB0>\n",
      "<built-in method min of numpy.ndarray object at 0x0000020587512C30> <built-in method max of numpy.ndarray object at 0x0000020587512C30>\n",
      "<built-in method min of numpy.ndarray object at 0x0000020587512CF0> <built-in method max of numpy.ndarray object at 0x0000020587512CF0>\n",
      "<built-in method min of numpy.ndarray object at 0x0000020587512B10> <built-in method max of numpy.ndarray object at 0x0000020587512B10>\n",
      "<built-in method min of numpy.ndarray object at 0x0000020587512DB0> <built-in method max of numpy.ndarray object at 0x0000020587512DB0>\n",
      "<built-in method min of numpy.ndarray object at 0x0000020587512C90> <built-in method max of numpy.ndarray object at 0x0000020587512C90>\n",
      "<built-in method min of numpy.ndarray object at 0x0000020587512D50> <built-in method max of numpy.ndarray object at 0x0000020587512D50>\n",
      "<built-in method min of numpy.ndarray object at 0x0000020587512BD0> <built-in method max of numpy.ndarray object at 0x0000020587512BD0>\n",
      "<built-in method min of numpy.ndarray object at 0x0000020587512930> <built-in method max of numpy.ndarray object at 0x0000020587512930>\n",
      "<built-in method min of numpy.ndarray object at 0x0000020587512F90> <built-in method max of numpy.ndarray object at 0x0000020587512F90>\n",
      "<built-in method min of numpy.ndarray object at 0x0000020587512F30> <built-in method max of numpy.ndarray object at 0x0000020587512F30>\n",
      "<built-in method min of numpy.ndarray object at 0x0000020587512BD0> <built-in method max of numpy.ndarray object at 0x0000020587512BD0>\n",
      "<built-in method min of numpy.ndarray object at 0x0000020587512C90> <built-in method max of numpy.ndarray object at 0x0000020587512C90>\n",
      "<built-in method min of numpy.ndarray object at 0x0000020587512930> <built-in method max of numpy.ndarray object at 0x0000020587512930>\n",
      "<built-in method min of numpy.ndarray object at 0x0000020587512C30> <built-in method max of numpy.ndarray object at 0x0000020587512C30>\n",
      "<built-in method min of numpy.ndarray object at 0x0000020587512D50> <built-in method max of numpy.ndarray object at 0x0000020587512D50>\n",
      "<built-in method min of numpy.ndarray object at 0x0000020587512DB0> <built-in method max of numpy.ndarray object at 0x0000020587512DB0>\n",
      "<built-in method min of numpy.ndarray object at 0x0000020587512AB0> <built-in method max of numpy.ndarray object at 0x0000020587512AB0>\n",
      "<built-in method min of numpy.ndarray object at 0x0000020587512A50> <built-in method max of numpy.ndarray object at 0x0000020587512A50>\n",
      "<built-in method min of numpy.ndarray object at 0x00000205875129F0> <built-in method max of numpy.ndarray object at 0x00000205875129F0>\n",
      "<built-in method min of numpy.ndarray object at 0x0000020587512870> <built-in method max of numpy.ndarray object at 0x0000020587512870>\n",
      "<built-in method min of numpy.ndarray object at 0x0000020587512690> <built-in method max of numpy.ndarray object at 0x0000020587512690>\n",
      "<built-in method min of numpy.ndarray object at 0x00000205875128D0> <built-in method max of numpy.ndarray object at 0x00000205875128D0>\n",
      "<built-in method min of numpy.ndarray object at 0x00000205875123F0> <built-in method max of numpy.ndarray object at 0x00000205875123F0>\n",
      "<built-in method min of numpy.ndarray object at 0x0000020587512ED0> <built-in method max of numpy.ndarray object at 0x0000020587512ED0>\n",
      "<built-in method min of numpy.ndarray object at 0x0000020587512390> <built-in method max of numpy.ndarray object at 0x0000020587512390>\n",
      "<built-in method min of numpy.ndarray object at 0x00000205875126F0> <built-in method max of numpy.ndarray object at 0x00000205875126F0>\n",
      "<built-in method min of numpy.ndarray object at 0x0000020587512810> <built-in method max of numpy.ndarray object at 0x0000020587512810>\n",
      "<built-in method min of numpy.ndarray object at 0x0000020587512E70> <built-in method max of numpy.ndarray object at 0x0000020587512E70>\n",
      "<built-in method min of numpy.ndarray object at 0x0000020587512990> <built-in method max of numpy.ndarray object at 0x0000020587512990>\n",
      "<built-in method min of numpy.ndarray object at 0x0000020587512CF0> <built-in method max of numpy.ndarray object at 0x0000020587512CF0>\n",
      "<built-in method min of numpy.ndarray object at 0x0000020587512810> <built-in method max of numpy.ndarray object at 0x0000020587512810>\n",
      "<built-in method min of numpy.ndarray object at 0x0000020587512390> <built-in method max of numpy.ndarray object at 0x0000020587512390>\n",
      "<built-in method min of numpy.ndarray object at 0x0000020587512E70> <built-in method max of numpy.ndarray object at 0x0000020587512E70>\n",
      "<built-in method min of numpy.ndarray object at 0x0000020587512690> <built-in method max of numpy.ndarray object at 0x0000020587512690>\n",
      "<built-in method min of numpy.ndarray object at 0x00000205875126F0> <built-in method max of numpy.ndarray object at 0x00000205875126F0>\n",
      "<built-in method min of numpy.ndarray object at 0x0000020587512ED0> <built-in method max of numpy.ndarray object at 0x0000020587512ED0>\n",
      "<built-in method min of numpy.ndarray object at 0x0000020587512870> <built-in method max of numpy.ndarray object at 0x0000020587512870>\n",
      "<built-in method min of numpy.ndarray object at 0x00000205875129F0> <built-in method max of numpy.ndarray object at 0x00000205875129F0>\n",
      "<built-in method min of numpy.ndarray object at 0x0000020587512A50> <built-in method max of numpy.ndarray object at 0x0000020587512A50>\n",
      "<built-in method min of numpy.ndarray object at 0x0000020587512AB0> <built-in method max of numpy.ndarray object at 0x0000020587512AB0>\n",
      "<built-in method min of numpy.ndarray object at 0x0000020587512DB0> <built-in method max of numpy.ndarray object at 0x0000020587512DB0>\n",
      "<built-in method min of numpy.ndarray object at 0x0000020587512D50> <built-in method max of numpy.ndarray object at 0x0000020587512D50>\n",
      "<built-in method min of numpy.ndarray object at 0x0000020587512C30> <built-in method max of numpy.ndarray object at 0x0000020587512C30>\n",
      "<built-in method min of numpy.ndarray object at 0x0000020587512930> <built-in method max of numpy.ndarray object at 0x0000020587512930>\n",
      "<built-in method min of numpy.ndarray object at 0x0000020587512C90> <built-in method max of numpy.ndarray object at 0x0000020587512C90>\n",
      "<built-in method min of numpy.ndarray object at 0x0000020587512BD0> <built-in method max of numpy.ndarray object at 0x0000020587512BD0>\n",
      "<built-in method min of numpy.ndarray object at 0x0000020587512B10> <built-in method max of numpy.ndarray object at 0x0000020587512B10>\n",
      "<built-in method min of numpy.ndarray object at 0x0000020587512F90> <built-in method max of numpy.ndarray object at 0x0000020587512F90>\n",
      "<built-in method min of numpy.ndarray object at 0x00000205875128D0> <built-in method max of numpy.ndarray object at 0x00000205875128D0>\n",
      "<built-in method min of numpy.ndarray object at 0x0000020587512B70> <built-in method max of numpy.ndarray object at 0x0000020587512B70>\n"
     ]
    }
   ],
   "source": [
    "main_arr = []\n",
    "\n",
    "#disc\n",
    "X1=get_images(tmp_array[0],disp_array[0],target_elements,20,128)\n",
    "X2=get_images(tmp_array[1],disp_array[1],target_elements,20,64)\n",
    "X3=get_images(tmp_array[2],disp_array[2],target_elements,20,32)\n",
    "X4=get_images(tmp_array[3],disp_array[3],target_elements,20,16)\n",
    "\n",
    "\n",
    "inp_256 = get_images(tmp_array[4],disp_array[4],target_elements,20,256)\n",
    "\n",
    "\n",
    "temp = np.array(temp)\n",
    "disp = np.array(disp)\n",
    "\n",
    "#gen - use X2 and X4\n",
    "\n",
    "Y = get_Y(target_elements)"
   ]
  },
  {
   "cell_type": "code",
   "execution_count": 16,
   "id": "39a75ddc-0614-497e-8390-539bf70ca686",
   "metadata": {
    "tags": []
   },
   "outputs": [
    {
     "data": {
      "text/plain": [
       "(20, 128, 128, 2)"
      ]
     },
     "execution_count": 16,
     "metadata": {},
     "output_type": "execute_result"
    }
   ],
   "source": [
    "X1.shape"
   ]
  },
  {
   "cell_type": "code",
   "execution_count": 17,
   "id": "710b67ea-71d1-4dee-b52d-fe442d03a974",
   "metadata": {
    "tags": []
   },
   "outputs": [
    {
     "data": {
      "text/plain": [
       "<matplotlib.image.AxesImage at 0x205876170d0>"
      ]
     },
     "execution_count": 17,
     "metadata": {},
     "output_type": "execute_result"
    },
    {
     "data": {
      "image/png": "[encoded data removed]",
      "text/plain": [
       "<Figure size 640x480 with 1 Axes>"
      ]
     },
     "metadata": {},
     "output_type": "display_data"
    }
   ],
   "source": [
    "plt.imshow(X1[17][:,:,0])"
   ]
  },
  {
   "cell_type": "code",
   "execution_count": 18,
   "id": "ab08f99f-863e-4641-a01a-dfb1bb7e3002",
   "metadata": {
    "tags": []
   },
   "outputs": [
    {
     "data": {
      "text/plain": [
       "0.0"
      ]
     },
     "execution_count": 18,
     "metadata": {},
     "output_type": "execute_result"
    }
   ],
   "source": [
    "Y.min()\n"
   ]
  },
  {
   "cell_type": "code",
   "execution_count": 19,
   "id": "5e9f6765-2f44-4fd8-9d85-cbb8d1dd4fe2",
   "metadata": {
    "tags": []
   },
   "outputs": [
    {
     "data": {
      "text/plain": [
       "['cc_256_disp_cv_1012_in.png',\n",
       " 'cc_256_disp_cv_1094_in.png',\n",
       " 'cc_256_disp_cv_1138_in.png',\n",
       " 'cc_256_disp_cv_1143_in.png',\n",
       " 'cc_256_disp_cv_1198_in.png',\n",
       " 'cc_256_disp_cv_273_in.png',\n",
       " 'cc_256_disp_cv_453_in.png',\n",
       " 'cc_256_disp_cv_466_in.png',\n",
       " 'cc_256_disp_cv_487_in.png',\n",
       " 'cc_256_disp_cv_522_in.png',\n",
       " 'cc_256_disp_cv_579_in.png',\n",
       " 'cc_256_disp_cv_595_in.png',\n",
       " 'cc_256_disp_cv_605_in.png',\n",
       " 'cc_256_disp_cv_691_in.png',\n",
       " 'cc_256_disp_cv_720_in.png',\n",
       " 'cc_256_disp_cv_75_in.png',\n",
       " 'cc_256_disp_cv_790_in.png',\n",
       " 'cc_256_disp_cv_842_in.png',\n",
       " 'cc_256_disp_cv_870_in.png',\n",
       " 'cc_256_disp_cv_889_in.png']"
      ]
     },
     "execution_count": 19,
     "metadata": {},
     "output_type": "execute_result"
    }
   ],
   "source": [
    "tmp_array[4]"
   ]
  },
  {
   "cell_type": "code",
   "execution_count": 20,
   "id": "58dd26b3",
   "metadata": {
    "tags": []
   },
   "outputs": [],
   "source": [
    "batch_size = 1\n",
    "train_data=tf.data.Dataset.from_tensor_slices((inp_256,X1,X2,X3,X4,temp,disp,Y))\n",
    "train_data=train_data.shuffle(10000).batch(batch_size)"
   ]
  },
  {
   "cell_type": "code",
   "execution_count": 21,
   "id": "45a89268",
   "metadata": {
    "tags": []
   },
   "outputs": [
    {
     "data": {
      "text/plain": [
       "<BatchDataset element_spec=(TensorSpec(shape=(None, 256, 256, 2), dtype=tf.float64, name=None), TensorSpec(shape=(None, 128, 128, 2), dtype=tf.float64, name=None), TensorSpec(shape=(None, 64, 64, 2), dtype=tf.float64, name=None), TensorSpec(shape=(None, 32, 32, 2), dtype=tf.float64, name=None), TensorSpec(shape=(None, 16, 16, 2), dtype=tf.float64, name=None), TensorSpec(shape=(None, 1, 1), dtype=tf.float64, name=None), TensorSpec(shape=(None, 1, 1), dtype=tf.float32, name=None), TensorSpec(shape=(None, 256, 256, 1), dtype=tf.float64, name=None))>"
      ]
     },
     "execution_count": 21,
     "metadata": {},
     "output_type": "execute_result"
    }
   ],
   "source": [
    "train_data"
   ]
  },
  {
   "cell_type": "code",
   "execution_count": 22,
   "id": "00808e9f",
   "metadata": {
    "tags": []
   },
   "outputs": [
    {
     "data": {
      "text/plain": [
       "(20, 256, 256, 1)"
      ]
     },
     "execution_count": 22,
     "metadata": {},
     "output_type": "execute_result"
    }
   ],
   "source": [
    "Y.shape\n"
   ]
  },
  {
   "cell_type": "code",
   "execution_count": 23,
   "id": "20f7b2e3",
   "metadata": {},
   "outputs": [
    {
     "data": {
      "text/plain": [
       "['cc_128_disp_cv_1012_in.png',\n",
       " 'cc_128_disp_cv_1094_in.png',\n",
       " 'cc_128_disp_cv_1138_in.png',\n",
       " 'cc_128_disp_cv_1143_in.png',\n",
       " 'cc_128_disp_cv_1198_in.png',\n",
       " 'cc_128_disp_cv_273_in.png',\n",
       " 'cc_128_disp_cv_453_in.png',\n",
       " 'cc_128_disp_cv_466_in.png',\n",
       " 'cc_128_disp_cv_487_in.png',\n",
       " 'cc_128_disp_cv_522_in.png',\n",
       " 'cc_128_disp_cv_579_in.png',\n",
       " 'cc_128_disp_cv_595_in.png',\n",
       " 'cc_128_disp_cv_605_in.png',\n",
       " 'cc_128_disp_cv_691_in.png',\n",
       " 'cc_128_disp_cv_720_in.png',\n",
       " 'cc_128_disp_cv_75_in.png',\n",
       " 'cc_128_disp_cv_790_in.png',\n",
       " 'cc_128_disp_cv_842_in.png',\n",
       " 'cc_128_disp_cv_870_in.png',\n",
       " 'cc_128_disp_cv_889_in.png']"
      ]
     },
     "execution_count": 23,
     "metadata": {},
     "output_type": "execute_result"
    }
   ],
   "source": [
    "disc_temp_128"
   ]
  },
  {
   "cell_type": "code",
   "execution_count": 24,
   "id": "7fd31a56",
   "metadata": {},
   "outputs": [
    {
     "data": {
      "text/plain": [
       "['cc_64_temp_cv_1012_in.png',\n",
       " 'cc_64_temp_cv_1094_in.png',\n",
       " 'cc_64_temp_cv_1138_in.png',\n",
       " 'cc_64_temp_cv_1143_in.png',\n",
       " 'cc_64_temp_cv_1198_in.png',\n",
       " 'cc_64_temp_cv_273_in.png',\n",
       " 'cc_64_temp_cv_453_in.png',\n",
       " 'cc_64_temp_cv_466_in.png',\n",
       " 'cc_64_temp_cv_487_in.png',\n",
       " 'cc_64_temp_cv_522_in.png',\n",
       " 'cc_64_temp_cv_579_in.png',\n",
       " 'cc_64_temp_cv_595_in.png',\n",
       " 'cc_64_temp_cv_605_in.png',\n",
       " 'cc_64_temp_cv_691_in.png',\n",
       " 'cc_64_temp_cv_720_in.png',\n",
       " 'cc_64_temp_cv_75_in.png',\n",
       " 'cc_64_temp_cv_790_in.png',\n",
       " 'cc_64_temp_cv_842_in.png',\n",
       " 'cc_64_temp_cv_870_in.png',\n",
       " 'cc_64_temp_cv_889_in.png']"
      ]
     },
     "execution_count": 24,
     "metadata": {},
     "output_type": "execute_result"
    }
   ],
   "source": [
    "gen_temp_64"
   ]
  },
  {
   "cell_type": "code",
   "execution_count": 25,
   "id": "9656ae0c",
   "metadata": {},
   "outputs": [],
   "source": [
    "################################################################################################################################"
   ]
  },
  {
   "cell_type": "code",
   "execution_count": 26,
   "id": "f69d2986",
   "metadata": {
    "tags": []
   },
   "outputs": [
    {
     "name": "stdout",
     "output_type": "stream",
     "text": [
      "20\n"
     ]
    }
   ],
   "source": [
    "i=0\n",
    "for elm in disc_temp_128:\n",
    "    i=i+1    \n",
    "print(i)"
   ]
  },
  {
   "cell_type": "code",
   "execution_count": 27,
   "id": "f62691fc",
   "metadata": {},
   "outputs": [
    {
     "name": "stdout",
     "output_type": "stream",
     "text": [
      "20\n"
     ]
    }
   ],
   "source": [
    "i=0\n",
    "for elm in disc_temp_64:\n",
    "    i=i+1    \n",
    "print(i)"
   ]
  },
  {
   "cell_type": "code",
   "execution_count": 28,
   "id": "2b019aa2",
   "metadata": {},
   "outputs": [
    {
     "name": "stdout",
     "output_type": "stream",
     "text": [
      "20\n"
     ]
    }
   ],
   "source": [
    "j=0\n",
    "for elm in target_elements:\n",
    "    j=j+1    \n",
    "print(j)"
   ]
  },
  {
   "cell_type": "code",
   "execution_count": 29,
   "id": "c8d3f6ba",
   "metadata": {},
   "outputs": [],
   "source": [
    "################################################################################################################################"
   ]
  },
  {
   "cell_type": "code",
   "execution_count": 30,
   "id": "69c0d312",
   "metadata": {},
   "outputs": [],
   "source": [
    "################################################################################################################################"
   ]
  },
  {
   "cell_type": "code",
   "execution_count": 31,
   "id": "3cabbf84",
   "metadata": {},
   "outputs": [],
   "source": [
    "################################################################################################################################"
   ]
  },
  {
   "cell_type": "code",
   "execution_count": null,
   "id": "931dee1c",
   "metadata": {},
   "outputs": [],
   "source": []
  },
  {
   "cell_type": "code",
   "execution_count": null,
   "id": "2fbd7534",
   "metadata": {},
   "outputs": [],
   "source": []
  },
  {
   "cell_type": "code",
   "execution_count": 32,
   "id": "dff720e0",
   "metadata": {},
   "outputs": [],
   "source": [
    "################################################################################################################################"
   ]
  },
  {
   "cell_type": "code",
   "execution_count": 33,
   "id": "22b14841",
   "metadata": {},
   "outputs": [],
   "source": [
    "def summarize_performance(step, g_model, n_samples=3):\n",
    "    # select a sample of input images\n",
    "    [X_realA, X_realB], _ = generate_real_samples(n_samples, 1)\n",
    "    \n",
    "    # generate a batch of fake samples\n",
    "    X_fakeB, _ = generate_fake_samples(g_model, X_realA, 1)\n",
    "    \n",
    "    # plot real source images\n",
    "    for i in range(n_samples):\n",
    "        plt.subplot(3, n_samples, 1 + i)\n",
    "        plt.axis('off')\n",
    "        plt.imshow(X_realA[i])\n",
    "    # plot generated target image\n",
    "    for i in range(n_samples):\n",
    "        plt.subplot(3, n_samples, 1 + n_samples + i)\n",
    "        plt.axis('off')\n",
    "        plt.imshow(X_fakeB[i])\n",
    "    # plot real target image\n",
    "    for i in range(n_samples):\n",
    "        plt.subplot(3, n_samples, 1 + n_samples*2 + i)\n",
    "        plt.axis('off')\n",
    "        plt.imshow(X_realB[i])\n",
    "    # save plot to file\n",
    "    filename1 = 'plot_%06d.png' % (step+1)\n",
    "    plt.savefig(filename1)\n",
    "    plt.close()\n",
    "    # save the generator model\n",
    "    filename2 = 'model_%06d.h5' % (step+1)\n",
    "    g_model.save(filename2)\n",
    "    print('>Saved: %s and %s' % (filename1, filename2))"
   ]
  },
  {
   "cell_type": "code",
   "execution_count": 34,
   "id": "1f5ca759-48ca-4bff-a743-e8627fb01c26",
   "metadata": {
    "tags": []
   },
   "outputs": [],
   "source": [
    "import tensorflow as tf\n",
    "def generate_noise(latent_dim):\n",
    "    noise = tf.random.normal([1,latent_dim])\n",
    "    return noise\n"
   ]
  },
  {
   "cell_type": "code",
   "execution_count": 35,
   "id": "837e3e3a-0b42-46de-8809-1a35faf9602c",
   "metadata": {
    "tags": []
   },
   "outputs": [
    {
     "data": {
      "text/plain": [
       "TensorShape([1, 100])"
      ]
     },
     "execution_count": 35,
     "metadata": {},
     "output_type": "execute_result"
    }
   ],
   "source": [
    "generate_noise(100).shape"
   ]
  },
  {
   "cell_type": "code",
   "execution_count": 36,
   "id": "540af79c-7fe9-4841-baa5-1c9edc9f4b27",
   "metadata": {
    "tags": []
   },
   "outputs": [],
   "source": [
    "\n",
    "\n",
    "def define_discriminator(in_shape=(256,256,1)):  \n",
    "\n",
    "    condition = Input(shape=(256,256,2))  \n",
    "    in_image = Input(shape=in_shape)   #\n",
    "    \n",
    "    x1 = Input(shape=(128,128,2))\n",
    "\n",
    "    \n",
    "    x2 = Input(shape=(64,64,2))\n",
    "\n",
    "    \n",
    "    x3 = Input(shape=(32,32,2))\n",
    "   \n",
    "    \n",
    "    x4 = Input(shape=(16,16,2))\n",
    "   \n",
    "    \n",
    "    merge = Concatenate()([condition,in_image])\n",
    "     \n",
    "\n",
    "    \n",
    "\n",
    "    disc = Conv2D(64, (4,4), strides=(2,2), padding='same')(merge)\n",
    "    disc = Concatenate()([disc,x1 ])\n",
    "    disc = BatchNormalization()(disc)\n",
    "    disc = LeakyReLU(alpha=0.2)(disc)\n",
    "    disc = Dropout(0.2)(disc)\n",
    "    \n",
    "    disc = Conv2D(128, (4,4), strides=(2,2), padding='same')(disc)\n",
    "    disc = Concatenate()([disc,x2 ]) \n",
    "    disc = BatchNormalization()(disc)\n",
    "    disc = LeakyReLU(alpha=0.2)(disc)\n",
    "    disc = Dropout(0.2)(disc)\n",
    "    \n",
    "    disc = Conv2D(256, (4,4), strides=(2,2), padding='same')(disc)\n",
    "    disc = Concatenate()([disc,x3 ]) \n",
    "    disc = BatchNormalization()(disc)\n",
    "    disc = LeakyReLU(alpha=0.2)(disc)\n",
    "    disc = Dropout(0.2)(disc)\n",
    "    \n",
    "    disc = Conv2D(512, (4,4), strides=(2,2), padding='same')(disc)\n",
    "    disc = Concatenate()([disc,x4 ]) \n",
    "    disc = BatchNormalization()(disc)\n",
    "    disc = LeakyReLU(alpha=0.2)(disc)\n",
    "    disc = Dropout(0.2)(disc)\n",
    "\n",
    "    \n",
    "    \n",
    "\n",
    "    \n",
    "    layer = Flatten()(disc)\n",
    "   \n",
    "\n",
    "    out_layer = Dense(1)(layer)  \n",
    "\n",
    "    model = Model([in_image, condition,x1,x2,x3,x4], out_layer)\n",
    "    model.summary()\n",
    "   \n",
    "    return model\n"
   ]
  },
  {
   "cell_type": "code",
   "execution_count": 37,
   "id": "942e2288",
   "metadata": {
    "tags": []
   },
   "outputs": [
    {
     "name": "stdout",
     "output_type": "stream",
     "text": [
      "Model: \"model\"\n",
      "__________________________________________________________________________________________________\n",
      " Layer (type)                   Output Shape         Param #     Connected to                     \n",
      "==================================================================================================\n",
      " input_1 (InputLayer)           [(None, 256, 256, 2  0           []                               \n",
      "                                )]                                                                \n",
      "                                                                                                  \n",
      " input_2 (InputLayer)           [(None, 256, 256, 1  0           []                               \n",
      "                                )]                                                                \n",
      "                                                                                                  \n",
      " concatenate (Concatenate)      (None, 256, 256, 3)  0           ['input_1[0][0]',                \n",
      "                                                                  'input_2[0][0]']                \n",
      "                                                                                                  \n",
      " conv2d (Conv2D)                (None, 128, 128, 64  3136        ['concatenate[0][0]']            \n",
      "                                )                                                                 \n",
      "                                                                                                  \n",
      " input_3 (InputLayer)           [(None, 128, 128, 2  0           []                               \n",
      "                                )]                                                                \n",
      "                                                                                                  \n",
      " concatenate_1 (Concatenate)    (None, 128, 128, 66  0           ['conv2d[0][0]',                 \n",
      "                                )                                 'input_3[0][0]']                \n",
      "                                                                                                  \n",
      " batch_normalization (BatchNorm  (None, 128, 128, 66  264        ['concatenate_1[0][0]']          \n",
      " alization)                     )                                                                 \n",
      "                                                                                                  \n",
      " leaky_re_lu (LeakyReLU)        (None, 128, 128, 66  0           ['batch_normalization[0][0]']    \n",
      "                                )                                                                 \n",
      "                                                                                                  \n",
      " dropout (Dropout)              (None, 128, 128, 66  0           ['leaky_re_lu[0][0]']            \n",
      "                                )                                                                 \n",
      "                                                                                                  \n",
      " conv2d_1 (Conv2D)              (None, 64, 64, 128)  135296      ['dropout[0][0]']                \n",
      "                                                                                                  \n",
      " input_4 (InputLayer)           [(None, 64, 64, 2)]  0           []                               \n",
      "                                                                                                  \n",
      " concatenate_2 (Concatenate)    (None, 64, 64, 130)  0           ['conv2d_1[0][0]',               \n",
      "                                                                  'input_4[0][0]']                \n",
      "                                                                                                  \n",
      " batch_normalization_1 (BatchNo  (None, 64, 64, 130)  520        ['concatenate_2[0][0]']          \n",
      " rmalization)                                                                                     \n",
      "                                                                                                  \n",
      " leaky_re_lu_1 (LeakyReLU)      (None, 64, 64, 130)  0           ['batch_normalization_1[0][0]']  \n",
      "                                                                                                  \n",
      " dropout_1 (Dropout)            (None, 64, 64, 130)  0           ['leaky_re_lu_1[0][0]']          \n",
      "                                                                                                  \n",
      " conv2d_2 (Conv2D)              (None, 32, 32, 256)  532736      ['dropout_1[0][0]']              \n",
      "                                                                                                  \n",
      " input_5 (InputLayer)           [(None, 32, 32, 2)]  0           []                               \n",
      "                                                                                                  \n",
      " concatenate_3 (Concatenate)    (None, 32, 32, 258)  0           ['conv2d_2[0][0]',               \n",
      "                                                                  'input_5[0][0]']                \n",
      "                                                                                                  \n",
      " batch_normalization_2 (BatchNo  (None, 32, 32, 258)  1032       ['concatenate_3[0][0]']          \n",
      " rmalization)                                                                                     \n",
      "                                                                                                  \n",
      " leaky_re_lu_2 (LeakyReLU)      (None, 32, 32, 258)  0           ['batch_normalization_2[0][0]']  \n",
      "                                                                                                  \n",
      " dropout_2 (Dropout)            (None, 32, 32, 258)  0           ['leaky_re_lu_2[0][0]']          \n",
      "                                                                                                  \n",
      " conv2d_3 (Conv2D)              (None, 16, 16, 512)  2114048     ['dropout_2[0][0]']              \n",
      "                                                                                                  \n",
      " input_6 (InputLayer)           [(None, 16, 16, 2)]  0           []                               \n",
      "                                                                                                  \n",
      " concatenate_4 (Concatenate)    (None, 16, 16, 514)  0           ['conv2d_3[0][0]',               \n",
      "                                                                  'input_6[0][0]']                \n",
      "                                                                                                  \n",
      " batch_normalization_3 (BatchNo  (None, 16, 16, 514)  2056       ['concatenate_4[0][0]']          \n",
      " rmalization)                                                                                     \n",
      "                                                                                                  \n",
      " leaky_re_lu_3 (LeakyReLU)      (None, 16, 16, 514)  0           ['batch_normalization_3[0][0]']  \n",
      "                                                                                                  \n",
      " dropout_3 (Dropout)            (None, 16, 16, 514)  0           ['leaky_re_lu_3[0][0]']          \n",
      "                                                                                                  \n",
      " flatten (Flatten)              (None, 131584)       0           ['dropout_3[0][0]']              \n",
      "                                                                                                  \n",
      " dense (Dense)                  (None, 1)            131585      ['flatten[0][0]']                \n",
      "                                                                                                  \n",
      "==================================================================================================\n",
      "Total params: 2,920,673\n",
      "Trainable params: 2,918,737\n",
      "Non-trainable params: 1,936\n",
      "__________________________________________________________________________________________________\n"
     ]
    }
   ],
   "source": [
    "discriminator = define_discriminator()"
   ]
  },
  {
   "cell_type": "code",
   "execution_count": 38,
   "id": "2975ca92-5a0b-43b2-90cf-a377001478ee",
   "metadata": {
    "tags": []
   },
   "outputs": [],
   "source": [
    "def define_generator(latent_dim=100,nodes=4096):\n",
    "\n",
    "    g1 = Input(shape=(16,16,2))\n",
    "    \n",
    "    \n",
    "    g2 = Input(shape=(64,64,2))\n",
    "   \n",
    "    \n",
    "    in_label_1 = Input(shape=(1,))  \n",
    "    in_label_2 = Input(shape=(1,))\n",
    "    \n",
    "    latent =  Input(shape=(latent_dim,))\n",
    "    merge = Concatenate()([latent, in_label_1,in_label_2]) \n",
    "    \n",
    "    merge = Dense(nodes)(merge)\n",
    "    gen = Reshape((4, 4, 256))(merge) \n",
    "    \n",
    "    \n",
    "    \n",
    "    gen = Conv2DTranspose(128, (4,4), strides=(4,4), padding='same')(gen)  \n",
    "    merge1 = Concatenate()([gen, g1]) \n",
    "    gen = BatchNormalization()(merge1)\n",
    "    gen = ReLU()(gen)\n",
    "    \n",
    "    \n",
    "    gen = Conv2DTranspose(64, (4,4), strides=(4,4), padding='same')(gen) \n",
    "    merge2 = Concatenate()([gen, g2]) \n",
    "    gen = BatchNormalization()(merge2)\n",
    "    gen = ReLU()(gen)\n",
    "\n",
    "    \n",
    "    gen_out = Conv2DTranspose(1, (4,4), strides=(4,4), padding='same',activation='tanh')(gen) \n",
    "    \n",
    "    \n",
    "  \n",
    "    \n",
    "    model = Model([latent, in_label_1,in_label_2,g1,g2], gen_out)\n",
    "    \n",
    "    model.summary()\n",
    "    return model   \n"
   ]
  },
  {
   "cell_type": "code",
   "execution_count": 39,
   "id": "bf5dc888",
   "metadata": {
    "tags": []
   },
   "outputs": [
    {
     "name": "stdout",
     "output_type": "stream",
     "text": [
      "Model: \"model_1\"\n",
      "__________________________________________________________________________________________________\n",
      " Layer (type)                   Output Shape         Param #     Connected to                     \n",
      "==================================================================================================\n",
      " input_11 (InputLayer)          [(None, 100)]        0           []                               \n",
      "                                                                                                  \n",
      " input_9 (InputLayer)           [(None, 1)]          0           []                               \n",
      "                                                                                                  \n",
      " input_10 (InputLayer)          [(None, 1)]          0           []                               \n",
      "                                                                                                  \n",
      " concatenate_5 (Concatenate)    (None, 102)          0           ['input_11[0][0]',               \n",
      "                                                                  'input_9[0][0]',                \n",
      "                                                                  'input_10[0][0]']               \n",
      "                                                                                                  \n",
      " dense_1 (Dense)                (None, 4096)         421888      ['concatenate_5[0][0]']          \n",
      "                                                                                                  \n",
      " reshape (Reshape)              (None, 4, 4, 256)    0           ['dense_1[0][0]']                \n",
      "                                                                                                  \n",
      " conv2d_transpose (Conv2DTransp  (None, 16, 16, 128)  524416     ['reshape[0][0]']                \n",
      " ose)                                                                                             \n",
      "                                                                                                  \n",
      " input_7 (InputLayer)           [(None, 16, 16, 2)]  0           []                               \n",
      "                                                                                                  \n",
      " concatenate_6 (Concatenate)    (None, 16, 16, 130)  0           ['conv2d_transpose[0][0]',       \n",
      "                                                                  'input_7[0][0]']                \n",
      "                                                                                                  \n",
      " batch_normalization_4 (BatchNo  (None, 16, 16, 130)  520        ['concatenate_6[0][0]']          \n",
      " rmalization)                                                                                     \n",
      "                                                                                                  \n",
      " re_lu (ReLU)                   (None, 16, 16, 130)  0           ['batch_normalization_4[0][0]']  \n",
      "                                                                                                  \n",
      " conv2d_transpose_1 (Conv2DTran  (None, 64, 64, 64)  133184      ['re_lu[0][0]']                  \n",
      " spose)                                                                                           \n",
      "                                                                                                  \n",
      " input_8 (InputLayer)           [(None, 64, 64, 2)]  0           []                               \n",
      "                                                                                                  \n",
      " concatenate_7 (Concatenate)    (None, 64, 64, 66)   0           ['conv2d_transpose_1[0][0]',     \n",
      "                                                                  'input_8[0][0]']                \n",
      "                                                                                                  \n",
      " batch_normalization_5 (BatchNo  (None, 64, 64, 66)  264         ['concatenate_7[0][0]']          \n",
      " rmalization)                                                                                     \n",
      "                                                                                                  \n",
      " re_lu_1 (ReLU)                 (None, 64, 64, 66)   0           ['batch_normalization_5[0][0]']  \n",
      "                                                                                                  \n",
      " conv2d_transpose_2 (Conv2DTran  (None, 256, 256, 1)  1057       ['re_lu_1[0][0]']                \n",
      " spose)                                                                                           \n",
      "                                                                                                  \n",
      "==================================================================================================\n",
      "Total params: 1,081,329\n",
      "Trainable params: 1,080,937\n",
      "Non-trainable params: 392\n",
      "__________________________________________________________________________________________________\n"
     ]
    }
   ],
   "source": [
    "generator = define_generator()"
   ]
  },
  {
   "cell_type": "code",
   "execution_count": 40,
   "id": "505eb7f5-41e5-4385-9a1c-973bb0a750ee",
   "metadata": {
    "tags": []
   },
   "outputs": [
    {
     "data": {
      "text/plain": [
       "'\\ndef gen_train(tr_size=20,latent_dim=100,nodes=4096):  \\n    \\n    for i in range(tr_size):    \\n        temp1= cv2.imread(gen_temp_64[i])\\n        disp1 = cv2.imread(gen_disp_64[i])\\n        temp2= cv2.imread(gen_temp_16[i])\\n        disp2 = cv2.imread(gen_disp_16[i])\\n\\n        temp_1 = tf.expand_dims(temp1, axis=0)\\n        disp_1 = tf.expand_dims(disp1,axis=0)\\n        temp_2 = tf.expand_dims(temp2, axis=0)\\n        disp_2 = tf.expand_dims(disp2,axis=0)\\n\\n        latent = generate_noise(100)\\n\\n        generator_model = define_generator(latent_dim=latent_dim, nodes=nodes)\\n\\n\\n        gen_output = generator_model([latent, temp_1, disp_1, temp_2, disp_2])\\n'"
      ]
     },
     "execution_count": 40,
     "metadata": {},
     "output_type": "execute_result"
    }
   ],
   "source": [
    "'''\n",
    "def gen_train(tr_size=20,latent_dim=100,nodes=4096):  \n",
    "    \n",
    "    for i in range(tr_size):    \n",
    "        temp1= cv2.imread(gen_temp_64[i])\n",
    "        disp1 = cv2.imread(gen_disp_64[i])\n",
    "        temp2= cv2.imread(gen_temp_16[i])\n",
    "        disp2 = cv2.imread(gen_disp_16[i])\n",
    "\n",
    "        temp_1 = tf.expand_dims(temp1, axis=0)\n",
    "        disp_1 = tf.expand_dims(disp1,axis=0)\n",
    "        temp_2 = tf.expand_dims(temp2, axis=0)\n",
    "        disp_2 = tf.expand_dims(disp2,axis=0)\n",
    "\n",
    "        latent = generate_noise(100)\n",
    "\n",
    "        generator_model = define_generator(latent_dim=latent_dim, nodes=nodes)\n",
    "\n",
    "\n",
    "        gen_output = generator_model([latent, temp_1, disp_1, temp_2, disp_2])\n",
    "'''"
   ]
  },
  {
   "cell_type": "code",
   "execution_count": 41,
   "id": "a0c9e06e-4b09-402b-8c24-b5c3933387cd",
   "metadata": {
    "tags": []
   },
   "outputs": [
    {
     "data": {
      "text/plain": [
       "'\\ndef disc_train(tr_size=20,temp,disp,in_shape=(256,256,1)):\\n    \\n    for i in range(tr_size):\\n        in_image = \\n        \\n        condition = source[i]\\n        \\n        temp1= cv2.imread(disc_temp_128[i])\\n        disp1 = cv2.imread(disc_disp_128[i])\\n        temp2= cv2.imread(disc_temp_64[i])\\n        disp2 = cv2.imread(disc_disp_64[i])\\n        temp3= cv2.imread(disc_temp_32[i])\\n        disp3 = cv2.imread(disc_disp_32[i])\\n        temp4= cv2.imread(disc_temp_16[i])\\n        disp4 = cv2.imread(disc_disp_16[i])\\n        \\n        temp_1 = tf.expand_dims(temp1, axis=0)\\n        disp_1 = tf.expand_dims(disp1,axis=0)\\n        temp_2 = tf.expand_dims(temp2, axis=0)\\n        disp_2 = tf.expand_dims(disp2,axis=0)\\n        temp_3 = tf.expand_dims(temp3, axis=0)\\n        disp_3 = tf.expand_dims(disp3,axis=0)\\n        temp_4 = tf.expand_dims(temp4, axis=0)\\n        disp_4 = tf.expand_dims(disp4,axis=0)\\n    \\n\\n      \\n        \\n        disc_model = define_discriminator(in_shape)\\n        \\n\\n        disc_output = disc_model([in_image,condition, temp_1, disp_1, temp_2, disp_2,temp_3,disp_3,temp_4,disp_4])\\n        \\n      '"
      ]
     },
     "execution_count": 41,
     "metadata": {},
     "output_type": "execute_result"
    }
   ],
   "source": [
    "'''\n",
    "def disc_train(tr_size=20,temp,disp,in_shape=(256,256,1)):\n",
    "    \n",
    "    for i in range(tr_size):\n",
    "        in_image = \n",
    "        \n",
    "        condition = source[i]\n",
    "        \n",
    "        temp1= cv2.imread(disc_temp_128[i])\n",
    "        disp1 = cv2.imread(disc_disp_128[i])\n",
    "        temp2= cv2.imread(disc_temp_64[i])\n",
    "        disp2 = cv2.imread(disc_disp_64[i])\n",
    "        temp3= cv2.imread(disc_temp_32[i])\n",
    "        disp3 = cv2.imread(disc_disp_32[i])\n",
    "        temp4= cv2.imread(disc_temp_16[i])\n",
    "        disp4 = cv2.imread(disc_disp_16[i])\n",
    "        \n",
    "        temp_1 = tf.expand_dims(temp1, axis=0)\n",
    "        disp_1 = tf.expand_dims(disp1,axis=0)\n",
    "        temp_2 = tf.expand_dims(temp2, axis=0)\n",
    "        disp_2 = tf.expand_dims(disp2,axis=0)\n",
    "        temp_3 = tf.expand_dims(temp3, axis=0)\n",
    "        disp_3 = tf.expand_dims(disp3,axis=0)\n",
    "        temp_4 = tf.expand_dims(temp4, axis=0)\n",
    "        disp_4 = tf.expand_dims(disp4,axis=0)\n",
    "    \n",
    "\n",
    "      \n",
    "        \n",
    "        disc_model = define_discriminator(in_shape)\n",
    "        \n",
    "\n",
    "        disc_output = disc_model([in_image,condition, temp_1, disp_1, temp_2, disp_2,temp_3,disp_3,temp_4,disp_4])\n",
    "        \n",
    "      '''  \n",
    "    "
   ]
  },
  {
   "cell_type": "code",
   "execution_count": 42,
   "id": "8f54fad1",
   "metadata": {
    "tags": []
   },
   "outputs": [],
   "source": [
    "import keras\n",
    "loss=keras.losses.BinaryCrossentropy(from_logits=True)\n",
    "\n",
    "def disc_loss(real_output,fake_output):\n",
    "  real_loss=loss(tf.ones_like(real_output),real_output)\n",
    "  fake_loss=loss(tf.zeros_like(fake_output),fake_output)\n",
    "  return real_loss+fake_loss\n",
    "\n",
    "\n",
    "def gen_loss(generated_output):\n",
    "  \n",
    "  \n",
    "  gan_loss = loss(tf.ones_like(generated_output), generated_output)\n",
    "  gan_loss = tf.cast(gan_loss,tf.float64)\n",
    "\n",
    "  return gan_loss"
   ]
  },
  {
   "cell_type": "code",
   "execution_count": 46,
   "id": "9be49467-4746-4f20-9cf4-b9e037f0352a",
   "metadata": {
    "tags": []
   },
   "outputs": [],
   "source": [
    "gen_opt=tf.keras.optimizers.Adam(learning_rate=0.0002,beta_1=0.5,beta_2=0.999)\n",
    "disc_opt=tf.keras.optimizers.Adam(learning_rate=0.0002,beta_1=0.5,beta_2=0.999)"
   ]
  },
  {
   "cell_type": "code",
   "execution_count": 47,
   "id": "49d9d032",
   "metadata": {
    "tags": []
   },
   "outputs": [],
   "source": [
    "import tensorflow as tf\n",
    "def generate_noise(latent_dim=100):\n",
    "    noise = tf.random.normal([1,latent_dim])\n",
    "    return noise\n"
   ]
  },
  {
   "cell_type": "code",
   "execution_count": 48,
   "id": "88a35bc8",
   "metadata": {
    "tags": []
   },
   "outputs": [],
   "source": [
    "\n",
    "def compare_images(latent, t,d,g1,g2,target,epoch):\n",
    "  generated = generator([latent, t,d,g1,g2], training=True)\n",
    "  plt.figure(figsize=(15,5))\n",
    "  \n",
    "  images_list = [target[0], generated[0]]\n",
    "  \n",
    "  title = ['Real (ground truth)', 'Generated Image (fake)']\n",
    "\n",
    "  for i in range(2):\n",
    "    plt.subplot(1, 2, i + 1)\n",
    "    plt.title(title[i])\n",
    "    images_list[i]=images_list[i]/2\n",
    "    images_list[i]+=0.5\n",
    "    plt.imshow(images_list[i],cmap='gray')\n",
    "\n",
    "    plt.axis('off')\n",
    "  plt.suptitle(f'Step {epoch}')\n",
    "  plt.show()"
   ]
  },
  {
   "cell_type": "code",
   "execution_count": 49,
   "id": "c113d326",
   "metadata": {
    "tags": []
   },
   "outputs": [],
   "source": [
    "@tf.function\n",
    "def train_step(inp_256, t,d,x1,x2,x3,x4,real):\n",
    "  with tf.GradientTape() as g_tape, tf.GradientTape() as d_tape:\n",
    "    latent =  generate_noise()\n",
    "    g_output = generator([latent, t,d,x4,x2],training=True)\n",
    "    \n",
    "    d_output_real = discriminator([real,inp_256 ,x1,x2,x3,x4],training=True)\n",
    "    \n",
    "    d_generated_output = discriminator([g_output,inp_256,x1, x2,x3,x4],training=True)\n",
    "    \n",
    "    g_loss_total =gen_loss(d_generated_output)\n",
    "    \n",
    "    d_loss = disc_loss(d_output_real, d_generated_output)\n",
    "    \n",
    "  gradients_generator = g_tape.gradient(g_loss_total, generator.trainable_variables)\n",
    "  gradients_discriminator = d_tape.gradient(d_loss, discriminator.trainable_variables)\n",
    "  gen_opt.apply_gradients(zip(gradients_generator, generator.trainable_variables))\n",
    "  disc_opt.apply_gradients(zip(gradients_discriminator, discriminator.trainable_variables))"
   ]
  },
  {
   "cell_type": "code",
   "execution_count": 50,
   "id": "aad7c459",
   "metadata": {
    "tags": []
   },
   "outputs": [],
   "source": [
    "from IPython import display\n",
    "\n",
    "def train(train_set, steps):\n",
    "       \n",
    "    \n",
    "   \n",
    "        inp_256, X1, X2, X3, X4, T, D, Y =  next(iter(train_set.take(1)))\n",
    "        \n",
    "        for step, (inp, x1, x2, x3, x4, t, d, y) in train_set.repeat().take(steps).enumerate():\n",
    "            print('Step ', step)\n",
    "            if step % 20 == 0:\n",
    "                display.clear_output(wait=True)\n",
    "                compare_images(generate_noise(), T, D, X4, X2, Y, step)\n",
    "                print(f\"step: {step}\")\n",
    "            train_step(inp, t, d, x1, x2, x3, x4, y)"
   ]
  },
  {
   "cell_type": "code",
   "execution_count": 51,
   "id": "0ebd9995-4772-445f-ae0d-30a9a632fcc5",
   "metadata": {
    "tags": []
   },
   "outputs": [
    {
     "data": {
      "text/plain": [
       "'\\nfrom IPython import display\\n\\ndef train(train_set, steps ):\\n    for epoch in range(steps//20):\\n        print(f\"Epoch {epoch + 1}/{steps//20}:\")\\n        train_iter = iter(train_set)\\n        \\n        for step in range(steps):\\n            try:\\n                inp_256, X1, X2, X3, X4, T, D, Y = next(train_iter)  \\n                print(T,D)\\n            except StopIteration:\\n                break  \\n            \\n            print(\\'Step \\', step)\\n            if step % 20 == 0:\\n                # display.clear_output(wait=True)\\n                compare_images(generate_noise(), T, D, X4, X2, Y, step)\\n                print(f\"step: {step}\")\\n            train_step(inp_256, T, D, X1, X2, X3, X4, Y)\\n            '"
      ]
     },
     "execution_count": 51,
     "metadata": {},
     "output_type": "execute_result"
    }
   ],
   "source": [
    "\n",
    "'''\n",
    "from IPython import display\n",
    "\n",
    "def train(train_set, steps ):\n",
    "    for epoch in range(steps//20):\n",
    "        print(f\"Epoch {epoch + 1}/{steps//20}:\")\n",
    "        train_iter = iter(train_set)\n",
    "        \n",
    "        for step in range(steps):\n",
    "            try:\n",
    "                inp_256, X1, X2, X3, X4, T, D, Y = next(train_iter)  \n",
    "                print(T,D)\n",
    "            except StopIteration:\n",
    "                break  \n",
    "            \n",
    "            print('Step ', step)\n",
    "            if step % 20 == 0:\n",
    "                # display.clear_output(wait=True)\n",
    "                compare_images(generate_noise(), T, D, X4, X2, Y, step)\n",
    "                print(f\"step: {step}\")\n",
    "            train_step(inp_256, T, D, X1, X2, X3, X4, Y)\n",
    "            '''\n"
   ]
  },
  {
   "cell_type": "code",
   "execution_count": 52,
   "id": "f11cb6ad",
   "metadata": {
    "tags": []
   },
   "outputs": [
    {
     "data": {
      "image/png": "[encoded data removed]",
      "text/plain": [
       "<Figure size 1500x500 with 2 Axes>"
      ]
     },
     "metadata": {},
     "output_type": "display_data"
    },
    {
     "name": "stdout",
     "output_type": "stream",
     "text": [
      "step: 1100\n",
      "Step  tf.Tensor(1101, shape=(), dtype=int64)\n",
      "Step  tf.Tensor(1102, shape=(), dtype=int64)\n",
      "Step  tf.Tensor(1103, shape=(), dtype=int64)\n",
      "Step  tf.Tensor(1104, shape=(), dtype=int64)\n",
      "Step  tf.Tensor(1105, shape=(), dtype=int64)\n",
      "Step  tf.Tensor(1106, shape=(), dtype=int64)\n",
      "Step  tf.Tensor(1107, shape=(), dtype=int64)\n",
      "Step  tf.Tensor(1108, shape=(), dtype=int64)\n",
      "Step  tf.Tensor(1109, shape=(), dtype=int64)\n",
      "Step  tf.Tensor(1110, shape=(), dtype=int64)\n",
      "Step  tf.Tensor(1111, shape=(), dtype=int64)\n",
      "Step  tf.Tensor(1112, shape=(), dtype=int64)\n",
      "Step  tf.Tensor(1113, shape=(), dtype=int64)\n"
     ]
    },
    {
     "ename": "KeyboardInterrupt",
     "evalue": "",
     "output_type": "error",
     "traceback": [
      "\u001b[1;31m---------------------------------------------------------------------------\u001b[0m",
      "\u001b[1;31mKeyboardInterrupt\u001b[0m                         Traceback (most recent call last)",
      "\u001b[1;32m~\\AppData\\Local\\Temp\\ipykernel_21780\\1004244688.py\u001b[0m in \u001b[0;36m?\u001b[1;34m()\u001b[0m\n\u001b[1;32m----> 1\u001b[1;33m \u001b[0mtrain\u001b[0m\u001b[1;33m(\u001b[0m\u001b[0mtrain_data\u001b[0m\u001b[1;33m,\u001b[0m\u001b[1;36m5000\u001b[0m\u001b[1;33m)\u001b[0m\u001b[1;33m\u001b[0m\u001b[1;33m\u001b[0m\u001b[0m\n\u001b[0m",
      "\u001b[1;32m~\\AppData\\Local\\Temp\\ipykernel_21780\\2960198290.py\u001b[0m in \u001b[0;36m?\u001b[1;34m(train_set, steps)\u001b[0m\n\u001b[0;32m      7\u001b[0m         \u001b[0minp_256\u001b[0m\u001b[1;33m,\u001b[0m \u001b[0mX1\u001b[0m\u001b[1;33m,\u001b[0m \u001b[0mX2\u001b[0m\u001b[1;33m,\u001b[0m \u001b[0mX3\u001b[0m\u001b[1;33m,\u001b[0m \u001b[0mX4\u001b[0m\u001b[1;33m,\u001b[0m \u001b[0mT\u001b[0m\u001b[1;33m,\u001b[0m \u001b[0mD\u001b[0m\u001b[1;33m,\u001b[0m \u001b[0mY\u001b[0m \u001b[1;33m=\u001b[0m  \u001b[0mnext\u001b[0m\u001b[1;33m(\u001b[0m\u001b[0miter\u001b[0m\u001b[1;33m(\u001b[0m\u001b[0mtrain_set\u001b[0m\u001b[1;33m.\u001b[0m\u001b[0mtake\u001b[0m\u001b[1;33m(\u001b[0m\u001b[1;36m1\u001b[0m\u001b[1;33m)\u001b[0m\u001b[1;33m)\u001b[0m\u001b[1;33m)\u001b[0m\u001b[1;33m\u001b[0m\u001b[1;33m\u001b[0m\u001b[0m\n\u001b[0;32m      8\u001b[0m \u001b[1;33m\u001b[0m\u001b[0m\n\u001b[0;32m      9\u001b[0m         \u001b[1;32mfor\u001b[0m \u001b[0mstep\u001b[0m\u001b[1;33m,\u001b[0m \u001b[1;33m(\u001b[0m\u001b[0minp\u001b[0m\u001b[1;33m,\u001b[0m \u001b[0mx1\u001b[0m\u001b[1;33m,\u001b[0m \u001b[0mx2\u001b[0m\u001b[1;33m,\u001b[0m \u001b[0mx3\u001b[0m\u001b[1;33m,\u001b[0m \u001b[0mx4\u001b[0m\u001b[1;33m,\u001b[0m \u001b[0mt\u001b[0m\u001b[1;33m,\u001b[0m \u001b[0md\u001b[0m\u001b[1;33m,\u001b[0m \u001b[0my\u001b[0m\u001b[1;33m)\u001b[0m \u001b[1;32min\u001b[0m \u001b[0mtrain_set\u001b[0m\u001b[1;33m.\u001b[0m\u001b[0mrepeat\u001b[0m\u001b[1;33m(\u001b[0m\u001b[1;33m)\u001b[0m\u001b[1;33m.\u001b[0m\u001b[0mtake\u001b[0m\u001b[1;33m(\u001b[0m\u001b[0msteps\u001b[0m\u001b[1;33m)\u001b[0m\u001b[1;33m.\u001b[0m\u001b[0menumerate\u001b[0m\u001b[1;33m(\u001b[0m\u001b[1;33m)\u001b[0m\u001b[1;33m:\u001b[0m\u001b[1;33m\u001b[0m\u001b[1;33m\u001b[0m\u001b[0m\n\u001b[0;32m     10\u001b[0m             \u001b[0mprint\u001b[0m\u001b[1;33m(\u001b[0m\u001b[1;34m'Step '\u001b[0m\u001b[1;33m,\u001b[0m \u001b[0mstep\u001b[0m\u001b[1;33m)\u001b[0m\u001b[1;33m\u001b[0m\u001b[1;33m\u001b[0m\u001b[0m\n\u001b[1;32m---> 11\u001b[1;33m             \u001b[1;32mif\u001b[0m \u001b[0mstep\u001b[0m \u001b[1;33m%\u001b[0m \u001b[1;36m20\u001b[0m \u001b[1;33m==\u001b[0m \u001b[1;36m0\u001b[0m\u001b[1;33m:\u001b[0m\u001b[1;33m\u001b[0m\u001b[1;33m\u001b[0m\u001b[0m\n\u001b[0m\u001b[0;32m     12\u001b[0m                 \u001b[0mdisplay\u001b[0m\u001b[1;33m.\u001b[0m\u001b[0mclear_output\u001b[0m\u001b[1;33m(\u001b[0m\u001b[0mwait\u001b[0m\u001b[1;33m=\u001b[0m\u001b[1;32mTrue\u001b[0m\u001b[1;33m)\u001b[0m\u001b[1;33m\u001b[0m\u001b[1;33m\u001b[0m\u001b[0m\n\u001b[0;32m     13\u001b[0m                 \u001b[0mcompare_images\u001b[0m\u001b[1;33m(\u001b[0m\u001b[0mgenerate_noise\u001b[0m\u001b[1;33m(\u001b[0m\u001b[1;33m)\u001b[0m\u001b[1;33m,\u001b[0m \u001b[0mT\u001b[0m\u001b[1;33m,\u001b[0m \u001b[0mD\u001b[0m\u001b[1;33m,\u001b[0m \u001b[0mX4\u001b[0m\u001b[1;33m,\u001b[0m \u001b[0mX2\u001b[0m\u001b[1;33m,\u001b[0m \u001b[0mY\u001b[0m\u001b[1;33m,\u001b[0m \u001b[0mstep\u001b[0m\u001b[1;33m)\u001b[0m\u001b[1;33m\u001b[0m\u001b[1;33m\u001b[0m\u001b[0m\n\u001b[0;32m     14\u001b[0m                 \u001b[0mprint\u001b[0m\u001b[1;33m(\u001b[0m\u001b[1;34mf\"step: {step}\"\u001b[0m\u001b[1;33m)\u001b[0m\u001b[1;33m\u001b[0m\u001b[1;33m\u001b[0m\u001b[0m\n",
      "\u001b[1;32m~\\anaconda3\\envs\\gpu_main\\lib\\site-packages\\tensorflow\\python\\util\\traceback_utils.py\u001b[0m in \u001b[0;36m?\u001b[1;34m(*args, **kwargs)\u001b[0m\n\u001b[0;32m    151\u001b[0m     \u001b[1;32mexcept\u001b[0m \u001b[0mException\u001b[0m \u001b[1;32mas\u001b[0m \u001b[0me\u001b[0m\u001b[1;33m:\u001b[0m\u001b[1;33m\u001b[0m\u001b[1;33m\u001b[0m\u001b[0m\n\u001b[0;32m    152\u001b[0m       \u001b[0mfiltered_tb\u001b[0m \u001b[1;33m=\u001b[0m \u001b[0m_process_traceback_frames\u001b[0m\u001b[1;33m(\u001b[0m\u001b[0me\u001b[0m\u001b[1;33m.\u001b[0m\u001b[0m__traceback__\u001b[0m\u001b[1;33m)\u001b[0m\u001b[1;33m\u001b[0m\u001b[1;33m\u001b[0m\u001b[0m\n\u001b[0;32m    153\u001b[0m       \u001b[1;32mraise\u001b[0m \u001b[0me\u001b[0m\u001b[1;33m.\u001b[0m\u001b[0mwith_traceback\u001b[0m\u001b[1;33m(\u001b[0m\u001b[0mfiltered_tb\u001b[0m\u001b[1;33m)\u001b[0m \u001b[1;32mfrom\u001b[0m \u001b[1;32mNone\u001b[0m\u001b[1;33m\u001b[0m\u001b[1;33m\u001b[0m\u001b[0m\n\u001b[0;32m    154\u001b[0m     \u001b[1;32mfinally\u001b[0m\u001b[1;33m:\u001b[0m\u001b[1;33m\u001b[0m\u001b[1;33m\u001b[0m\u001b[0m\n\u001b[1;32m--> 155\u001b[1;33m       \u001b[1;32mdel\u001b[0m \u001b[0mfiltered_tb\u001b[0m\u001b[1;33m\u001b[0m\u001b[1;33m\u001b[0m\u001b[0m\n\u001b[0m",
      "\u001b[1;32m~\\anaconda3\\envs\\gpu_main\\lib\\site-packages\\tensorflow\\python\\util\\dispatch.py\u001b[0m in \u001b[0;36m?\u001b[1;34m(*args, **kwargs)\u001b[0m\n\u001b[0;32m   1086\u001b[0m         \u001b[0mresult\u001b[0m \u001b[1;33m=\u001b[0m \u001b[0mdispatch\u001b[0m\u001b[1;33m(\u001b[0m\u001b[0mop_dispatch_handler\u001b[0m\u001b[1;33m,\u001b[0m \u001b[0margs\u001b[0m\u001b[1;33m,\u001b[0m \u001b[0mkwargs\u001b[0m\u001b[1;33m)\u001b[0m\u001b[1;33m\u001b[0m\u001b[1;33m\u001b[0m\u001b[0m\n\u001b[0;32m   1087\u001b[0m         \u001b[1;32mif\u001b[0m \u001b[0mresult\u001b[0m \u001b[1;32mis\u001b[0m \u001b[1;32mnot\u001b[0m \u001b[0mOpDispatcher\u001b[0m\u001b[1;33m.\u001b[0m\u001b[0mNOT_SUPPORTED\u001b[0m\u001b[1;33m:\u001b[0m\u001b[1;33m\u001b[0m\u001b[1;33m\u001b[0m\u001b[0m\n\u001b[0;32m   1088\u001b[0m           \u001b[1;32mreturn\u001b[0m \u001b[0mresult\u001b[0m\u001b[1;33m\u001b[0m\u001b[1;33m\u001b[0m\u001b[0m\n\u001b[0;32m   1089\u001b[0m         \u001b[1;32melse\u001b[0m\u001b[1;33m:\u001b[0m\u001b[1;33m\u001b[0m\u001b[1;33m\u001b[0m\u001b[0m\n\u001b[1;32m-> 1090\u001b[1;33m           \u001b[1;32mraise\u001b[0m\u001b[1;33m\u001b[0m\u001b[1;33m\u001b[0m\u001b[0m\n\u001b[0m",
      "\u001b[1;32m~\\anaconda3\\envs\\gpu_main\\lib\\site-packages\\tensorflow\\python\\ops\\math_ops.py\u001b[0m in \u001b[0;36m?\u001b[1;34m(self, other)\u001b[0m\n\u001b[0;32m   1991\u001b[0m   \u001b[0mg\u001b[0m \u001b[1;33m=\u001b[0m \u001b[0mgetattr\u001b[0m\u001b[1;33m(\u001b[0m\u001b[0mself\u001b[0m\u001b[1;33m,\u001b[0m \u001b[1;34m\"graph\"\u001b[0m\u001b[1;33m,\u001b[0m \u001b[1;32mNone\u001b[0m\u001b[1;33m)\u001b[0m\u001b[1;33m\u001b[0m\u001b[1;33m\u001b[0m\u001b[0m\n\u001b[0;32m   1992\u001b[0m   if (ops.Tensor._USE_EQUALITY and ops.executing_eagerly_outside_functions() and\n\u001b[0;32m   1993\u001b[0m       (g is None or g.building_function)):\n\u001b[0;32m   1994\u001b[0m     \u001b[0mself\u001b[0m\u001b[1;33m,\u001b[0m \u001b[0mother\u001b[0m \u001b[1;33m=\u001b[0m \u001b[0mmaybe_promote_tensors\u001b[0m\u001b[1;33m(\u001b[0m\u001b[0mself\u001b[0m\u001b[1;33m,\u001b[0m \u001b[0mother\u001b[0m\u001b[1;33m)\u001b[0m\u001b[1;33m\u001b[0m\u001b[1;33m\u001b[0m\u001b[0m\n\u001b[1;32m-> 1995\u001b[1;33m     \u001b[1;32mreturn\u001b[0m \u001b[0mgen_math_ops\u001b[0m\u001b[1;33m.\u001b[0m\u001b[0mequal\u001b[0m\u001b[1;33m(\u001b[0m\u001b[0mself\u001b[0m\u001b[1;33m,\u001b[0m \u001b[0mother\u001b[0m\u001b[1;33m,\u001b[0m \u001b[0mincompatible_shape_error\u001b[0m\u001b[1;33m=\u001b[0m\u001b[1;32mFalse\u001b[0m\u001b[1;33m)\u001b[0m\u001b[1;33m\u001b[0m\u001b[1;33m\u001b[0m\u001b[0m\n\u001b[0m\u001b[0;32m   1996\u001b[0m   \u001b[1;32melse\u001b[0m\u001b[1;33m:\u001b[0m\u001b[1;33m\u001b[0m\u001b[1;33m\u001b[0m\u001b[0m\n\u001b[0;32m   1997\u001b[0m     \u001b[1;31m# In legacy graph mode, tensor equality is object equality\u001b[0m\u001b[1;33m\u001b[0m\u001b[1;33m\u001b[0m\u001b[0m\n\u001b[0;32m   1998\u001b[0m     \u001b[1;32mreturn\u001b[0m \u001b[0mself\u001b[0m \u001b[1;32mis\u001b[0m \u001b[0mother\u001b[0m\u001b[1;33m\u001b[0m\u001b[1;33m\u001b[0m\u001b[0m\n",
      "\u001b[1;32m~\\anaconda3\\envs\\gpu_main\\lib\\site-packages\\tensorflow\\python\\ops\\gen_math_ops.py\u001b[0m in \u001b[0;36m?\u001b[1;34m(x, y, incompatible_shape_error, name)\u001b[0m\n\u001b[0;32m   3303\u001b[0m       \u001b[1;32mreturn\u001b[0m \u001b[0m_result\u001b[0m\u001b[1;33m\u001b[0m\u001b[1;33m\u001b[0m\u001b[0m\n\u001b[0;32m   3304\u001b[0m     \u001b[1;32mexcept\u001b[0m \u001b[0m_core\u001b[0m\u001b[1;33m.\u001b[0m\u001b[0m_NotOkStatusException\u001b[0m \u001b[1;32mas\u001b[0m \u001b[0me\u001b[0m\u001b[1;33m:\u001b[0m\u001b[1;33m\u001b[0m\u001b[1;33m\u001b[0m\u001b[0m\n\u001b[0;32m   3305\u001b[0m       \u001b[0m_ops\u001b[0m\u001b[1;33m.\u001b[0m\u001b[0mraise_from_not_ok_status\u001b[0m\u001b[1;33m(\u001b[0m\u001b[0me\u001b[0m\u001b[1;33m,\u001b[0m \u001b[0mname\u001b[0m\u001b[1;33m)\u001b[0m\u001b[1;33m\u001b[0m\u001b[1;33m\u001b[0m\u001b[0m\n\u001b[0;32m   3306\u001b[0m     \u001b[1;32mexcept\u001b[0m \u001b[0m_core\u001b[0m\u001b[1;33m.\u001b[0m\u001b[0m_FallbackException\u001b[0m\u001b[1;33m:\u001b[0m\u001b[1;33m\u001b[0m\u001b[1;33m\u001b[0m\u001b[0m\n\u001b[1;32m-> 3307\u001b[1;33m       \u001b[1;32mpass\u001b[0m\u001b[1;33m\u001b[0m\u001b[1;33m\u001b[0m\u001b[0m\n\u001b[0m\u001b[0;32m   3308\u001b[0m     \u001b[1;32mtry\u001b[0m\u001b[1;33m:\u001b[0m\u001b[1;33m\u001b[0m\u001b[1;33m\u001b[0m\u001b[0m\n\u001b[0;32m   3309\u001b[0m       return equal_eager_fallback(\n\u001b[0;32m   3310\u001b[0m           \u001b[0mx\u001b[0m\u001b[1;33m,\u001b[0m \u001b[0my\u001b[0m\u001b[1;33m,\u001b[0m \u001b[0mincompatible_shape_error\u001b[0m\u001b[1;33m=\u001b[0m\u001b[0mincompatible_shape_error\u001b[0m\u001b[1;33m,\u001b[0m \u001b[0mname\u001b[0m\u001b[1;33m=\u001b[0m\u001b[0mname\u001b[0m\u001b[1;33m,\u001b[0m\u001b[1;33m\u001b[0m\u001b[1;33m\u001b[0m\u001b[0m\n",
      "\u001b[1;31mKeyboardInterrupt\u001b[0m: "
     ]
    }
   ],
   "source": [
    "train(train_data,5000)"
   ]
  },
  {
   "cell_type": "code",
   "execution_count": null,
   "id": "ee7933ff",
   "metadata": {
    "tags": []
   },
   "outputs": [],
   "source": [
    "plt.figure(figsize=(10,5))\n",
    "iter_ = iter(train_data)\n",
    "for i in range(30):\n",
    "    inp_256,X1,X2,X3,X4,T,D,Y = next(iter_)\n",
    "    print(D)\n",
    "    plt.subplot(6,5,i+1)\n",
    "    plt.axis(\"off\")\n",
    "    plt.imshow(Y[0],cmap='gray')\n",
    "    \n",
    "\n",
    "    \n",
    "#pred = generator([generate_noise(),T,D,X4,X2],training=False)\n",
    "#plt.imshow(pred[0],cmap='gray')\n"
   ]
  },
  {
   "cell_type": "code",
   "execution_count": null,
   "id": "9e83db2e",
   "metadata": {
    "tags": []
   },
   "outputs": [],
   "source": [
    "plt.figure(figsize=(20,10))\n",
    "train_iter = iter(train_data)\n",
    "for i in range(30):  \n",
    "    inp_256,X1,X2,X3,X4,T,D,Y = next(train_iter)\n",
    "    plt.subplot(6,5,i+1)\n",
    "    plt.axis(\"off\")\n",
    "    #plt.imshow(generator([generate_noise(),T,D,X4,X2],training=False)[0],cmap='gray')\n",
    "    plt.imshow(Y[0],cmap='gray')\n",
    "    \n",
    "   \n",
    "    \n",
    "#pred = generator([generate_noise(),T,D,X4,X2],training=False)\n",
    "#plt.imshow(pred[0],cmap='gray')\n"
   ]
  },
  {
   "cell_type": "code",
   "execution_count": null,
   "id": "11b7a7e0-7ff2-4f88-a4e9-30355ae818aa",
   "metadata": {
    "tags": []
   },
   "outputs": [],
   "source": [
    "train_data.as_numpy_iterator().next()"
   ]
  },
  {
   "cell_type": "code",
   "execution_count": null,
   "id": "c604e579-7ede-4860-a8fb-cb62aa03497c",
   "metadata": {
    "tags": []
   },
   "outputs": [],
   "source": [
    "train_iter = iter(train_data)\n",
    "inp_256,X1,X2,X3,X4,T,D,Y = next(train_iter)\n",
    "print(np.array(inp_256).min())"
   ]
  },
  {
   "cell_type": "code",
   "execution_count": null,
   "id": "375472d8-8079-4d7e-a6fc-824d6196ec5e",
   "metadata": {},
   "outputs": [],
   "source": []
  }
 ],
 "metadata": {
  "kernelspec": {
   "display_name": "gpu_main",
   "language": "python",
   "name": "gpu_main"
  },
  "language_info": {
   "codemirror_mode": {
    "name": "ipython",
    "version": 3
   },
   "file_extension": ".py",
   "mimetype": "text/x-python",
   "name": "python",
   "nbconvert_exporter": "python",
   "pygments_lexer": "ipython3",
   "version": "3.9.19"
  }
 },
 "nbformat": 4,
 "nbformat_minor": 5
}
