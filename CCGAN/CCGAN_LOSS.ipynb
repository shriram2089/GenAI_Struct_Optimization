{
 "cells": [
  {
   "cell_type": "code",
   "execution_count": 1,
   "id": "710484db-25d0-489c-95a3-df2e64033c09",
   "metadata": {},
   "outputs": [],
   "source": [
    "import tensorflow as tf\n",
    "from tensorflow.keras import backend as K\n",
    "import numpy as np\n",
    "\n",
    "# Constants\n",
    "C5, C6, C7, C8 = 1.0, 1.0, 1.0, 1.0\n",
    "sigma = 0.2\n",
    "\n",
    "# Helper function to compute vicinal points and weights\n",
    "def compute_vicinal_points_and_weights(y, eps):\n",
    "    y_eps = y + eps\n",
    "    weights = K.exp(-K.square(eps) / (2 * K.square(sigma)))\n",
    "    return y_eps, weights\n",
    "\n",
    "# Indicator function\n",
    "def indicator_function(y, y_tilde, kappa):\n",
    "    return K.cast(K.abs(y - y_tilde) <= kappa, tf.float32)\n"
   ]
  },
  {
   "cell_type": "code",
   "execution_count": 2,
   "id": "d89256f3-4d2d-461a-9c04-504d14cd4bf1",
   "metadata": {},
   "outputs": [],
   "source": [
    "def hvdl_loss(y_real, y_fake, D_real, D_fake, kappa):\n",
    "    N_r = tf.shape(y_real)[0]\n",
    "    N_g = tf.shape(y_fake)[0]\n",
    "    \n",
    "    eps_r = tf.random.normal(tf.shape(y_real), mean=0.0, stddev=sigma)\n",
    "    eps_g = tf.random.normal(tf.shape(y_fake), mean=0.0, stddev=sigma)\n",
    "    \n",
    "    y_real_eps, w_real = compute_vicinal_points_and_weights(y_real, eps_r)\n",
    "    y_fake_eps, w_fake = compute_vicinal_points_and_weights(y_fake, eps_g)\n",
    "    \n",
    "    term1 = K.mean(indicator_function(y_real, y_real_eps, kappa) * K.log(D_real + K.epsilon()))\n",
    "    term2 = K.mean(indicator_function(y_fake, y_fake_eps, kappa) * K.log(1 - D_fake + K.epsilon()))\n",
    "    \n",
    "    loss = -C5/N_r * term1 - C6/N_g * term2\n",
    "    return loss\n"
   ]
  },
  {
   "cell_type": "code",
   "execution_count": 3,
   "id": "603e5ab0-6607-4ef4-830b-b88d1a26d456",
   "metadata": {},
   "outputs": [],
   "source": [
    "def svdl_loss(y_real, y_fake, D_real, D_fake):\n",
    "    N_r = tf.shape(y_real)[0]\n",
    "    N_g = tf.shape(y_fake)[0]\n",
    "    \n",
    "    eps_r = tf.random.normal(tf.shape(y_real), mean=0.0, stddev=sigma)\n",
    "    eps_g = tf.random.normal(tf.shape(y_fake), mean=0.0, stddev=sigma)\n",
    "    \n",
    "    y_real_eps, w_real = compute_vicinal_points_and_weights(y_real, eps_r)\n",
    "    y_fake_eps, w_fake = compute_vicinal_points_and_weights(y_fake, eps_g)\n",
    "    \n",
    "    term1 = K.mean(w_real * K.log(D_real + K.epsilon()))\n",
    "    term2 = K.mean(w_fake * K.log(1 - D_fake + K.epsilon()))\n",
    "    \n",
    "    loss = -C7/N_r * term1 - C8/N_g * term2\n",
    "    return loss\n"
   ]
  },
  {
   "cell_type": "code",
   "execution_count": 5,
   "id": "0de74158-7901-4534-99ff-7dc53d762859",
   "metadata": {},
   "outputs": [
    {
     "ename": "ValueError",
     "evalue": "Attempt to convert a value (None) with an unsupported type (<class 'NoneType'>) to a Tensor.",
     "output_type": "error",
     "traceback": [
      "\u001b[1;31m---------------------------------------------------------------------------\u001b[0m",
      "\u001b[1;31mValueError\u001b[0m                                Traceback (most recent call last)",
      "Cell \u001b[1;32mIn[5], line 4\u001b[0m\n\u001b[0;32m      1\u001b[0m \u001b[38;5;28;01mimport\u001b[39;00m \u001b[38;5;21;01mtensorflow\u001b[39;00m \u001b[38;5;28;01mas\u001b[39;00m \u001b[38;5;21;01mtf\u001b[39;00m\n\u001b[0;32m      3\u001b[0m \u001b[38;5;66;03m# Placeholder for real and fake labels\u001b[39;00m\n\u001b[1;32m----> 4\u001b[0m y_real \u001b[38;5;241m=\u001b[39m tf\u001b[38;5;241m.\u001b[39mVariable(\u001b[43mtf\u001b[49m\u001b[38;5;241;43m.\u001b[39;49m\u001b[43mzeros\u001b[49m\u001b[43m(\u001b[49m\u001b[43mshape\u001b[49m\u001b[38;5;241;43m=\u001b[39;49m\u001b[43m(\u001b[49m\u001b[38;5;28;43;01mNone\u001b[39;49;00m\u001b[43m,\u001b[49m\u001b[43m \u001b[49m\u001b[38;5;241;43m1\u001b[39;49m\u001b[43m)\u001b[49m\u001b[43m)\u001b[49m, dtype\u001b[38;5;241m=\u001b[39mtf\u001b[38;5;241m.\u001b[39mfloat32)\n\u001b[0;32m      5\u001b[0m y_fake \u001b[38;5;241m=\u001b[39m tf\u001b[38;5;241m.\u001b[39mVariable(tf\u001b[38;5;241m.\u001b[39mzeros(shape\u001b[38;5;241m=\u001b[39m(\u001b[38;5;28;01mNone\u001b[39;00m, \u001b[38;5;241m1\u001b[39m)), dtype\u001b[38;5;241m=\u001b[39mtf\u001b[38;5;241m.\u001b[39mfloat32)\n\u001b[0;32m      7\u001b[0m \u001b[38;5;66;03m# Real and fake predictions from discriminator\u001b[39;00m\n",
      "File \u001b[1;32m~\\anaconda3\\envs\\gpu_main\\lib\\site-packages\\tensorflow\\python\\util\\traceback_utils.py:153\u001b[0m, in \u001b[0;36mfilter_traceback.<locals>.error_handler\u001b[1;34m(*args, **kwargs)\u001b[0m\n\u001b[0;32m    151\u001b[0m \u001b[38;5;28;01mexcept\u001b[39;00m \u001b[38;5;167;01mException\u001b[39;00m \u001b[38;5;28;01mas\u001b[39;00m e:\n\u001b[0;32m    152\u001b[0m   filtered_tb \u001b[38;5;241m=\u001b[39m _process_traceback_frames(e\u001b[38;5;241m.\u001b[39m__traceback__)\n\u001b[1;32m--> 153\u001b[0m   \u001b[38;5;28;01mraise\u001b[39;00m e\u001b[38;5;241m.\u001b[39mwith_traceback(filtered_tb) \u001b[38;5;28;01mfrom\u001b[39;00m \u001b[38;5;28;01mNone\u001b[39;00m\n\u001b[0;32m    154\u001b[0m \u001b[38;5;28;01mfinally\u001b[39;00m:\n\u001b[0;32m    155\u001b[0m   \u001b[38;5;28;01mdel\u001b[39;00m filtered_tb\n",
      "File \u001b[1;32m~\\anaconda3\\envs\\gpu_main\\lib\\site-packages\\tensorflow\\python\\framework\\constant_op.py:102\u001b[0m, in \u001b[0;36mconvert_to_eager_tensor\u001b[1;34m(value, ctx, dtype)\u001b[0m\n\u001b[0;32m    100\u001b[0m     dtype \u001b[38;5;241m=\u001b[39m dtypes\u001b[38;5;241m.\u001b[39mas_dtype(dtype)\u001b[38;5;241m.\u001b[39mas_datatype_enum\n\u001b[0;32m    101\u001b[0m ctx\u001b[38;5;241m.\u001b[39mensure_initialized()\n\u001b[1;32m--> 102\u001b[0m \u001b[38;5;28;01mreturn\u001b[39;00m \u001b[43mops\u001b[49m\u001b[38;5;241;43m.\u001b[39;49m\u001b[43mEagerTensor\u001b[49m\u001b[43m(\u001b[49m\u001b[43mvalue\u001b[49m\u001b[43m,\u001b[49m\u001b[43m \u001b[49m\u001b[43mctx\u001b[49m\u001b[38;5;241;43m.\u001b[39;49m\u001b[43mdevice_name\u001b[49m\u001b[43m,\u001b[49m\u001b[43m \u001b[49m\u001b[43mdtype\u001b[49m\u001b[43m)\u001b[49m\n",
      "\u001b[1;31mValueError\u001b[0m: Attempt to convert a value (None) with an unsupported type (<class 'NoneType'>) to a Tensor."
     ]
    }
   ],
   "source": [
    "import tensorflow as tf\n",
    "\n",
    "# Placeholder for real and fake labels\n",
    "y_real = tf.Variable(tf.zeros(shape=(None, 1)), dtype=tf.float32)\n",
    "y_fake = tf.Variable(tf.zeros(shape=(None, 1)), dtype=tf.float32)\n",
    "\n",
    "# Real and fake predictions from discriminator\n",
    "D_real = tf.Variable(tf.zeros(shape=(None, 1)), dtype=tf.float32)\n",
    "D_fake = tf.Variable(tf.zeros(shape=(None, 1)), dtype=tf.float32)\n",
    "\n",
    "# Placeholder for epsilon\n",
    "epsilon_r = tf.Variable(tf.random.normal(shape=(None, 1), mean=0.0, stddev=0.2), dtype=tf.float32)\n",
    "epsilon_g = tf.Variable(tf.random.normal(shape=(None, 1), mean=0.0, stddev=0.2), dtype=tf.float32)\n",
    "\n",
    "# Vicinal points\n",
    "y_r_eps, w_r_eps = compute_vicinal_points_and_weights(y_real, epsilon_r)\n",
    "y_g_eps, w_g_eps = compute_vicinal_points_and_weights(y_fake, epsilon_g)\n",
    "\n",
    "# HVDL Loss\n",
    "HVDL = C5 * tf.reduce_mean(indicator_function(y_real, y_r_eps, kappa) * w_r_eps * tf.math.log(D_real + 1e-10)) - \\\n",
    "       C6 * tf.reduce_mean(indicator_function(y_fake, y_g_eps, kappa) * w_g_eps * tf.math.log(1.0 - D_fake + 1e-10))\n",
    "\n",
    "# SVDL Loss\n",
    "SVDL = C7 * tf.reduce_mean(w_r_eps * tf.math.log(D_real + 1e-10)) - \\\n",
    "       C8 * tf.reduce_mean(w_g_eps * tf.math.log(1.0 - D_fake + 1e-10))\n",
    "\n",
    "# Generator Loss\n",
    "G_loss = tf.reduce_mean(tf.math.log(D_fake + 1e-10))\n"
   ]
  },
  {
   "cell_type": "code",
   "execution_count": null,
   "id": "c00fe96c-3c07-4379-95a3-8c079508414d",
   "metadata": {},
   "outputs": [],
   "source": []
  }
 ],
 "metadata": {
  "kernelspec": {
   "display_name": "gpu_main",
   "language": "python",
   "name": "gpu_main"
  },
  "language_info": {
   "codemirror_mode": {
    "name": "ipython",
    "version": 3
   },
   "file_extension": ".py",
   "mimetype": "text/x-python",
   "name": "python",
   "nbconvert_exporter": "python",
   "pygments_lexer": "ipython3",
   "version": "3.9.19"
  }
 },
 "nbformat": 4,
 "nbformat_minor": 5
}
